{
 "cells": [
  {
   "cell_type": "code",
   "execution_count": 1,
   "id": "57be226e",
   "metadata": {},
   "outputs": [],
   "source": [
    "# Codeblock 1\n",
    "import torch\n",
    "import torch.nn as nn\n",
    "from torchinfo import summary"
   ]
  },
  {
   "cell_type": "markdown",
   "id": "a02aac30",
   "metadata": {},
   "source": [
    "**Note**: several prints are commented out after being run to make the output more concise."
   ]
  },
  {
   "cell_type": "code",
   "execution_count": 4,
   "id": "dd0da5fa",
   "metadata": {},
   "outputs": [],
   "source": [
    "# Codeblock 2\n",
    "class DoubleConv(nn.Module):\n",
    "    def __init__(self, in_channels, out_channels):\n",
    "        super().__init__()\n",
    "        \n",
    "        self.conv_0 = nn.Conv2d(in_channels=in_channels, \n",
    "                                out_channels=out_channels, \n",
    "                                kernel_size=3, bias=False)    #(1)\n",
    "        self.bn_0 = nn.BatchNorm2d(num_features=out_channels)\n",
    "        \n",
    "        self.conv_1 = nn.Conv2d(in_channels=out_channels,\n",
    "                                out_channels=out_channels, \n",
    "                                kernel_size=3, bias=False)    #(2)\n",
    "        self.bn_1 = nn.BatchNorm2d(num_features=out_channels)\n",
    "        \n",
    "        self.relu = nn.ReLU(inplace=True)\n",
    "\n",
    "# Codeblock 3\n",
    "    def forward(self, x):\n",
    "        #print(f'original\\t\\t: {x.size()}')\n",
    "        \n",
    "        x = self.conv_0(x)\n",
    "        x = self.bn_0(x)\n",
    "        x = self.relu(x)\n",
    "        #print(f'after first conv\\t: {x.size()}')\n",
    "        \n",
    "        x = self.conv_1(x)\n",
    "        x = self.bn_1(x)\n",
    "        x = self.relu(x)\n",
    "        #print(f'after second conv\\t: {x.size()}')\n",
    "        \n",
    "        return x"
   ]
  },
  {
   "cell_type": "code",
   "execution_count": 3,
   "id": "bc6d5ff6",
   "metadata": {},
   "outputs": [
    {
     "name": "stdout",
     "output_type": "stream",
     "text": [
      "original\t\t: torch.Size([1, 1, 572, 572])\n",
      "after first conv\t: torch.Size([1, 64, 570, 570])\n",
      "after second conv\t: torch.Size([1, 64, 568, 568])\n"
     ]
    }
   ],
   "source": [
    "# Codeblock 4\n",
    "double_conv = DoubleConv(in_channels=1, out_channels=64)    #(1)\n",
    "x = torch.randn((1, 1, 572, 572))    #(2)\n",
    "x = double_conv(x).size()"
   ]
  },
  {
   "cell_type": "code",
   "execution_count": 7,
   "id": "d3043327",
   "metadata": {},
   "outputs": [],
   "source": [
    "# Codeblock 5\n",
    "class DownSample(nn.Module):\n",
    "    def __init__(self, in_channels, out_channels):\n",
    "        super().__init__()\n",
    "        \n",
    "        self.double_conv = DoubleConv(in_channels=in_channels, \n",
    "                                      out_channels=out_channels)    #(1)\n",
    "        self.maxpool = nn.MaxPool2d(kernel_size=2, stride=2)    #(2)\n",
    "    \n",
    "    def forward(self, x):\n",
    "        #print(f'original\\t\\t: {x.size()}')\n",
    "        \n",
    "        convolved = self.double_conv(x)\n",
    "        #print(f'after double conv\\t: {convolved.size()}')\n",
    "        \n",
    "        maxpooled = self.maxpool(convolved)\n",
    "        #print(f'after pooling\\t\\t: {maxpooled.size()}')\n",
    "        \n",
    "        return convolved, maxpooled    #(3)"
   ]
  },
  {
   "cell_type": "code",
   "execution_count": 6,
   "id": "9ccf215e",
   "metadata": {},
   "outputs": [
    {
     "name": "stdout",
     "output_type": "stream",
     "text": [
      "original\t\t: torch.Size([1, 1, 572, 572])\n",
      "after double conv\t: torch.Size([1, 64, 568, 568])\n",
      "after pooling\t\t: torch.Size([1, 64, 284, 284])\n"
     ]
    }
   ],
   "source": [
    "# Codeblock 6\n",
    "down_sample = DownSample(in_channels=1, out_channels=64)\n",
    "x = torch.randn((1, 1, 572, 572))\n",
    "x = down_sample(x)"
   ]
  },
  {
   "cell_type": "code",
   "execution_count": 8,
   "id": "95bf77ef",
   "metadata": {},
   "outputs": [],
   "source": [
    "# Codeblock 7\n",
    "def crop_image(original, expected):    #(1)\n",
    "    \n",
    "    original_dim = original.size()[-1]    #(2)\n",
    "    expected_dim = expected.size()[-1]    #(3)\n",
    "    \n",
    "    difference = original_dim - expected_dim    #(4)\n",
    "    padding = difference // 2    #(5)\n",
    "    \n",
    "    cropped = original[:, :, padding:original_dim-padding, padding:original_dim-padding]    #(6)\n",
    "    \n",
    "    return cropped"
   ]
  },
  {
   "cell_type": "code",
   "execution_count": 11,
   "id": "b28b78e0",
   "metadata": {},
   "outputs": [],
   "source": [
    "# Codeblock 8\n",
    "class UpSample(nn.Module):\n",
    "    def __init__(self, in_channels, out_channels):\n",
    "        super().__init__()\n",
    "        \n",
    "        self.conv_transpose = nn.ConvTranspose2d(in_channels=in_channels,\n",
    "                                                 out_channels=out_channels, \n",
    "                                                 kernel_size=2, stride=2)    #(1)\n",
    "        self.double_conv = DoubleConv(in_channels=in_channels,\n",
    "                                      out_channels=out_channels)\n",
    "        \n",
    "# Codeblock 9\n",
    "    def forward(self, x, connection):    #(1)\n",
    "        #print(f'x original\\t\\t\\t: {x.size()}')\n",
    "        #print(f'connection original\\t\\t: {connection.size()}')\n",
    "        \n",
    "        x = self.conv_transpose(x)    #(2)\n",
    "        #print(f'x after conv transpose\\t\\t: {x.size()}')\n",
    "        \n",
    "        cropped_connection = crop_image(connection, x)    #(3)\n",
    "        #print(f'connection after cropped\\t: {x.size()}')\n",
    "        \n",
    "        x = torch.cat([x, cropped_connection], dim=1)    #(4)\n",
    "        #print(f'after concatenation\\t\\t: {x.size()}')\n",
    "        \n",
    "        x = self.double_conv(x)    #(5)\n",
    "        #print(f'after double conv\\t\\t: {x.size()}')\n",
    "        \n",
    "        return x"
   ]
  },
  {
   "cell_type": "code",
   "execution_count": 10,
   "id": "fda99b46",
   "metadata": {},
   "outputs": [
    {
     "name": "stdout",
     "output_type": "stream",
     "text": [
      "x original\t\t\t: torch.Size([1, 1024, 28, 28])\n",
      "connection original\t\t: torch.Size([1, 512, 64, 64])\n",
      "x after conv transpose\t\t: torch.Size([1, 512, 56, 56])\n",
      "connection after cropped\t: torch.Size([1, 512, 56, 56])\n",
      "after concatenation\t\t: torch.Size([1, 1024, 56, 56])\n",
      "after double conv\t\t: torch.Size([1, 512, 52, 52])\n"
     ]
    }
   ],
   "source": [
    "# Codeblock 10\n",
    "up_sample = UpSample(1024, 512)    #(1)\n",
    "\n",
    "x = torch.randn((1, 1024, 28, 28))    #(2)\n",
    "connection = torch.randn((1, 512, 64, 64))    #(3)\n",
    "\n",
    "x = up_sample(x, connection)"
   ]
  },
  {
   "cell_type": "code",
   "execution_count": 16,
   "id": "4e79dd31",
   "metadata": {},
   "outputs": [],
   "source": [
    "# Codeblock 11\n",
    "class UNet(nn.Module):\n",
    "    def __init__(self, in_channels=1, num_classes=2):    #(1)\n",
    "        super().__init__()\n",
    "        \n",
    "        # Encoder    #(2)\n",
    "        self.downsample_0 = DownSample(in_channels=in_channels, out_channels=64)\n",
    "        self.downsample_1 = DownSample(in_channels=64, out_channels=128)\n",
    "        self.downsample_2 = DownSample(in_channels=128, out_channels=256)\n",
    "        self.downsample_3 = DownSample(in_channels=256, out_channels=512)\n",
    "        \n",
    "        # Bottleneck    #(3)\n",
    "        self.bottleneck   = DoubleConv(in_channels=512, out_channels=1024)\n",
    "        \n",
    "        # Decoder    #(4)\n",
    "        self.upsample_0   = UpSample(in_channels=1024, out_channels=512)\n",
    "        self.upsample_1   = UpSample(in_channels=512, out_channels=256)\n",
    "        self.upsample_2   = UpSample(in_channels=256, out_channels=128)\n",
    "        self.upsample_3   = UpSample(in_channels=128, out_channels=64)\n",
    "        \n",
    "        # Output    #(5)\n",
    "        self.output = nn.Conv2d(in_channels=64, out_channels=num_classes, kernel_size=1)\n",
    "        \n",
    "# Codeblock 12\n",
    "    def forward(self, x):\n",
    "        #print(f'original\\t\\t: {x.size()}')\n",
    "        \n",
    "        convolved_0, maxpooled_0 = self.downsample_0(x)    #(1)\n",
    "        #print(f'maxpooled_0\\t\\t: {maxpooled_0.size()}')\n",
    "        \n",
    "        convolved_1, maxpooled_1 = self.downsample_1(maxpooled_0)    #(2)\n",
    "        #print(f'maxpooled_1\\t\\t: {maxpooled_1.size()}')\n",
    "        \n",
    "        convolved_2, maxpooled_2 = self.downsample_2(maxpooled_1)    #(3)\n",
    "        #print(f'maxpooled_2\\t\\t: {maxpooled_2.size()}')\n",
    "        \n",
    "        convolved_3, maxpooled_3 = self.downsample_3(maxpooled_2)    #(4)\n",
    "        #print(f'maxpooled_3\\t\\t: {maxpooled_3.size()}')\n",
    "        \n",
    "        x = self.bottleneck(maxpooled_3)\n",
    "        #print(f'after bottleneck\\t: {x.size()}')\n",
    "        \n",
    "        upsampled_0 = self.upsample_0(x, convolved_3)    #(5)\n",
    "        #print(f'upsampled_0\\t\\t: {upsampled_0.size()}')\n",
    "        \n",
    "        upsampled_1 = self.upsample_1(upsampled_0, convolved_2)    #(6)\n",
    "        #print(f'upsampled_1\\t\\t: {upsampled_1.size()}')\n",
    "\n",
    "        upsampled_2 = self.upsample_2(upsampled_1, convolved_1)\n",
    "        #print(f'upsampled_2\\t\\t: {upsampled_2.size()}')\n",
    "        \n",
    "        upsampled_3 = self.upsample_3(upsampled_2, convolved_0)\n",
    "        #print(f'upsampled_3\\t\\t: {upsampled_3.size()}')\n",
    "        \n",
    "        x = self.output(upsampled_3)\n",
    "        #print(f'final output\\t\\t: {x.size()}')\n",
    "        \n",
    "        return x"
   ]
  },
  {
   "cell_type": "code",
   "execution_count": 13,
   "id": "b2b23259",
   "metadata": {},
   "outputs": [
    {
     "name": "stdout",
     "output_type": "stream",
     "text": [
      "original\t\t: torch.Size([1, 1, 572, 572])\n",
      "maxpooled_0\t\t: torch.Size([1, 64, 284, 284])\n",
      "maxpooled_1\t\t: torch.Size([1, 128, 140, 140])\n",
      "maxpooled_2\t\t: torch.Size([1, 256, 68, 68])\n",
      "maxpooled_3\t\t: torch.Size([1, 512, 32, 32])\n",
      "after bottleneck\t: torch.Size([1, 1024, 28, 28])\n",
      "upsampled_0\t\t: torch.Size([1, 512, 52, 52])\n",
      "upsampled_1\t\t: torch.Size([1, 256, 100, 100])\n",
      "upsampled_2\t\t: torch.Size([1, 128, 196, 196])\n",
      "upsampled_3\t\t: torch.Size([1, 64, 388, 388])\n",
      "final output\t\t: torch.Size([1, 2, 388, 388])\n"
     ]
    }
   ],
   "source": [
    "# Codeblock 13\n",
    "unet = UNet()\n",
    "x = torch.randn((1, 1, 572, 572))\n",
    "x = unet(x)"
   ]
  },
  {
   "cell_type": "code",
   "execution_count": 17,
   "id": "0a2d1cf0",
   "metadata": {
    "scrolled": false
   },
   "outputs": [
    {
     "name": "stdout",
     "output_type": "stream",
     "text": [
      "original\t\t: torch.Size([1, 1, 572, 572])\n",
      "maxpooled_0\t\t: torch.Size([1, 64, 284, 284])\n",
      "maxpooled_1\t\t: torch.Size([1, 128, 140, 140])\n",
      "maxpooled_2\t\t: torch.Size([1, 256, 68, 68])\n",
      "maxpooled_3\t\t: torch.Size([1, 512, 32, 32])\n",
      "after bottleneck\t: torch.Size([1, 1024, 28, 28])\n",
      "upsampled_0\t\t: torch.Size([1, 512, 52, 52])\n",
      "upsampled_1\t\t: torch.Size([1, 256, 100, 100])\n",
      "upsampled_2\t\t: torch.Size([1, 128, 196, 196])\n",
      "upsampled_3\t\t: torch.Size([1, 64, 388, 388])\n",
      "final output\t\t: torch.Size([1, 2, 388, 388])\n"
     ]
    },
    {
     "data": {
      "text/plain": [
       "==========================================================================================\n",
       "Layer (type:depth-idx)                   Output Shape              Param #\n",
       "==========================================================================================\n",
       "UNet                                     [1, 2, 388, 388]          --\n",
       "├─DownSample: 1-1                        [1, 64, 568, 568]         --\n",
       "│    └─DoubleConv: 2-1                   [1, 64, 568, 568]         --\n",
       "│    │    └─Conv2d: 3-1                  [1, 64, 570, 570]         576\n",
       "│    │    └─BatchNorm2d: 3-2             [1, 64, 570, 570]         128\n",
       "│    │    └─ReLU: 3-3                    [1, 64, 570, 570]         --\n",
       "│    │    └─Conv2d: 3-4                  [1, 64, 568, 568]         36,864\n",
       "│    │    └─BatchNorm2d: 3-5             [1, 64, 568, 568]         128\n",
       "│    │    └─ReLU: 3-6                    [1, 64, 568, 568]         --\n",
       "│    └─MaxPool2d: 2-2                    [1, 64, 284, 284]         --\n",
       "├─DownSample: 1-2                        [1, 128, 280, 280]        --\n",
       "│    └─DoubleConv: 2-3                   [1, 128, 280, 280]        --\n",
       "│    │    └─Conv2d: 3-7                  [1, 128, 282, 282]        73,728\n",
       "│    │    └─BatchNorm2d: 3-8             [1, 128, 282, 282]        256\n",
       "│    │    └─ReLU: 3-9                    [1, 128, 282, 282]        --\n",
       "│    │    └─Conv2d: 3-10                 [1, 128, 280, 280]        147,456\n",
       "│    │    └─BatchNorm2d: 3-11            [1, 128, 280, 280]        256\n",
       "│    │    └─ReLU: 3-12                   [1, 128, 280, 280]        --\n",
       "│    └─MaxPool2d: 2-4                    [1, 128, 140, 140]        --\n",
       "├─DownSample: 1-3                        [1, 256, 136, 136]        --\n",
       "│    └─DoubleConv: 2-5                   [1, 256, 136, 136]        --\n",
       "│    │    └─Conv2d: 3-13                 [1, 256, 138, 138]        294,912\n",
       "│    │    └─BatchNorm2d: 3-14            [1, 256, 138, 138]        512\n",
       "│    │    └─ReLU: 3-15                   [1, 256, 138, 138]        --\n",
       "│    │    └─Conv2d: 3-16                 [1, 256, 136, 136]        589,824\n",
       "│    │    └─BatchNorm2d: 3-17            [1, 256, 136, 136]        512\n",
       "│    │    └─ReLU: 3-18                   [1, 256, 136, 136]        --\n",
       "│    └─MaxPool2d: 2-6                    [1, 256, 68, 68]          --\n",
       "├─DownSample: 1-4                        [1, 512, 64, 64]          --\n",
       "│    └─DoubleConv: 2-7                   [1, 512, 64, 64]          --\n",
       "│    │    └─Conv2d: 3-19                 [1, 512, 66, 66]          1,179,648\n",
       "│    │    └─BatchNorm2d: 3-20            [1, 512, 66, 66]          1,024\n",
       "│    │    └─ReLU: 3-21                   [1, 512, 66, 66]          --\n",
       "│    │    └─Conv2d: 3-22                 [1, 512, 64, 64]          2,359,296\n",
       "│    │    └─BatchNorm2d: 3-23            [1, 512, 64, 64]          1,024\n",
       "│    │    └─ReLU: 3-24                   [1, 512, 64, 64]          --\n",
       "│    └─MaxPool2d: 2-8                    [1, 512, 32, 32]          --\n",
       "├─DoubleConv: 1-5                        [1, 1024, 28, 28]         --\n",
       "│    └─Conv2d: 2-9                       [1, 1024, 30, 30]         4,718,592\n",
       "│    └─BatchNorm2d: 2-10                 [1, 1024, 30, 30]         2,048\n",
       "│    └─ReLU: 2-11                        [1, 1024, 30, 30]         --\n",
       "│    └─Conv2d: 2-12                      [1, 1024, 28, 28]         9,437,184\n",
       "│    └─BatchNorm2d: 2-13                 [1, 1024, 28, 28]         2,048\n",
       "│    └─ReLU: 2-14                        [1, 1024, 28, 28]         --\n",
       "├─UpSample: 1-6                          [1, 512, 52, 52]          --\n",
       "│    └─ConvTranspose2d: 2-15             [1, 512, 56, 56]          2,097,664\n",
       "│    └─DoubleConv: 2-16                  [1, 512, 52, 52]          --\n",
       "│    │    └─Conv2d: 3-25                 [1, 512, 54, 54]          4,718,592\n",
       "│    │    └─BatchNorm2d: 3-26            [1, 512, 54, 54]          1,024\n",
       "│    │    └─ReLU: 3-27                   [1, 512, 54, 54]          --\n",
       "│    │    └─Conv2d: 3-28                 [1, 512, 52, 52]          2,359,296\n",
       "│    │    └─BatchNorm2d: 3-29            [1, 512, 52, 52]          1,024\n",
       "│    │    └─ReLU: 3-30                   [1, 512, 52, 52]          --\n",
       "├─UpSample: 1-7                          [1, 256, 100, 100]        --\n",
       "│    └─ConvTranspose2d: 2-17             [1, 256, 104, 104]        524,544\n",
       "│    └─DoubleConv: 2-18                  [1, 256, 100, 100]        --\n",
       "│    │    └─Conv2d: 3-31                 [1, 256, 102, 102]        1,179,648\n",
       "│    │    └─BatchNorm2d: 3-32            [1, 256, 102, 102]        512\n",
       "│    │    └─ReLU: 3-33                   [1, 256, 102, 102]        --\n",
       "│    │    └─Conv2d: 3-34                 [1, 256, 100, 100]        589,824\n",
       "│    │    └─BatchNorm2d: 3-35            [1, 256, 100, 100]        512\n",
       "│    │    └─ReLU: 3-36                   [1, 256, 100, 100]        --\n",
       "├─UpSample: 1-8                          [1, 128, 196, 196]        --\n",
       "│    └─ConvTranspose2d: 2-19             [1, 128, 200, 200]        131,200\n",
       "│    └─DoubleConv: 2-20                  [1, 128, 196, 196]        --\n",
       "│    │    └─Conv2d: 3-37                 [1, 128, 198, 198]        294,912\n",
       "│    │    └─BatchNorm2d: 3-38            [1, 128, 198, 198]        256\n",
       "│    │    └─ReLU: 3-39                   [1, 128, 198, 198]        --\n",
       "│    │    └─Conv2d: 3-40                 [1, 128, 196, 196]        147,456\n",
       "│    │    └─BatchNorm2d: 3-41            [1, 128, 196, 196]        256\n",
       "│    │    └─ReLU: 3-42                   [1, 128, 196, 196]        --\n",
       "├─UpSample: 1-9                          [1, 64, 388, 388]         --\n",
       "│    └─ConvTranspose2d: 2-21             [1, 64, 392, 392]         32,832\n",
       "│    └─DoubleConv: 2-22                  [1, 64, 388, 388]         --\n",
       "│    │    └─Conv2d: 3-43                 [1, 64, 390, 390]         73,728\n",
       "│    │    └─BatchNorm2d: 3-44            [1, 64, 390, 390]         128\n",
       "│    │    └─ReLU: 3-45                   [1, 64, 390, 390]         --\n",
       "│    │    └─Conv2d: 3-46                 [1, 64, 388, 388]         36,864\n",
       "│    │    └─BatchNorm2d: 3-47            [1, 64, 388, 388]         128\n",
       "│    │    └─ReLU: 3-48                   [1, 64, 388, 388]         --\n",
       "├─Conv2d: 1-10                           [1, 2, 388, 388]          130\n",
       "==========================================================================================\n",
       "Total params: 31,036,546\n",
       "Trainable params: 31,036,546\n",
       "Non-trainable params: 0\n",
       "Total mult-adds (Units.GIGABYTES): 167.34\n",
       "==========================================================================================\n",
       "Input size (MB): 1.31\n",
       "Forward/backward pass size (MB): 1992.61\n",
       "Params size (MB): 124.15\n",
       "Estimated Total Size (MB): 2118.07\n",
       "=========================================================================================="
      ]
     },
     "execution_count": 17,
     "metadata": {},
     "output_type": "execute_result"
    }
   ],
   "source": [
    "# Codeblock 14\n",
    "summary(unet, input_size=(1,1,572,572))"
   ]
  }
 ],
 "metadata": {
  "kernelspec": {
   "display_name": "Python 3 (ipykernel)",
   "language": "python",
   "name": "python3"
  },
  "language_info": {
   "codemirror_mode": {
    "name": "ipython",
    "version": 3
   },
   "file_extension": ".py",
   "mimetype": "text/x-python",
   "name": "python",
   "nbconvert_exporter": "python",
   "pygments_lexer": "ipython3",
   "version": "3.11.4"
  }
 },
 "nbformat": 4,
 "nbformat_minor": 5
}

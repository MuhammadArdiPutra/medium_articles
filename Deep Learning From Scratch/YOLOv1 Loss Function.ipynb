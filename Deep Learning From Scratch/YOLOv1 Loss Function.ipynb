{
 "cells": [
  {
   "cell_type": "code",
   "execution_count": 1,
   "id": "92f34943",
   "metadata": {},
   "outputs": [],
   "source": [
    "# Codeblock 1\n",
    "import torch\n",
    "import torch.nn as nn"
   ]
  },
  {
   "cell_type": "code",
   "execution_count": 2,
   "id": "1afc43c8",
   "metadata": {},
   "outputs": [],
   "source": [
    "# Codeblock 2\n",
    "def intersection_over_union(boxes_targets, boxes_predictions):\n",
    "\n",
    "    box2_x1 = boxes_targets[..., 0:1] - boxes_targets[..., 2:3] / 2\n",
    "    box2_y1 = boxes_targets[..., 1:2] - boxes_targets[..., 3:4] / 2\n",
    "    box2_x2 = boxes_targets[..., 0:1] + boxes_targets[..., 2:3] / 2\n",
    "    box2_y2 = boxes_targets[..., 1:2] + boxes_targets[..., 3:4] / 2\n",
    "    \n",
    "    box1_x1 = boxes_predictions[..., 0:1] - boxes_predictions[..., 2:3] / 2\n",
    "    box1_y1 = boxes_predictions[..., 1:2] - boxes_predictions[..., 3:4] / 2\n",
    "    box1_x2 = boxes_predictions[..., 0:1] + boxes_predictions[..., 2:3] / 2\n",
    "    box1_y2 = boxes_predictions[..., 1:2] + boxes_predictions[..., 3:4] / 2\n",
    "\n",
    "    x1 = torch.max(box1_x1, box2_x1)\n",
    "    y1 = torch.max(box1_y1, box2_y1)\n",
    "    x2 = torch.min(box1_x2, box2_x2)\n",
    "    y2 = torch.min(box1_y2, box2_y2)\n",
    "\n",
    "    intersection = (x2 - x1).clamp(0) * (y2 - y1).clamp(0)    #(1)\n",
    "\n",
    "    box1_area = torch.abs((box1_x2 - box1_x1) * (box1_y2 - box1_y1))\n",
    "    box2_area = torch.abs((box2_x2 - box2_x1) * (box2_y2 - box2_y1))\n",
    "\n",
    "    union = box1_area + box2_area - intersection + 1e-6       #(2)\n",
    "\n",
    "    iou = intersection / union    #(3)\n",
    "\n",
    "    return iou"
   ]
  },
  {
   "cell_type": "code",
   "execution_count": 3,
   "id": "70bb452c",
   "metadata": {},
   "outputs": [
    {
     "name": "stdout",
     "output_type": "stream",
     "text": [
      "iou_0: tensor([[0.6807]])\n",
      "iou_1: tensor([[0.1429]])\n",
      "iou_2: tensor([[0.0050]])\n"
     ]
    }
   ],
   "source": [
    "# Codeblock 3\n",
    "target_0 = torch.tensor([[0., 0., 200., 200.]])\n",
    "pred_0   = torch.tensor([[20., 20., 200., 200.]])\n",
    "iou_0    = intersection_over_union(target_0, pred_0)\n",
    "print('iou_0:', iou_0)\n",
    "\n",
    "target_1 = torch.tensor([[0., 0., 200., 200.]])\n",
    "pred_1   = torch.tensor([[100., 100., 200., 200.]])\n",
    "iou_1    = intersection_over_union(target_1, pred_1)\n",
    "print('iou_1:', iou_1)\n",
    "\n",
    "target_2 = torch.tensor([[0., 0., 200., 200.]])\n",
    "pred_2   = torch.tensor([[180., 180., 200., 200.]])\n",
    "iou_2    = intersection_over_union(target_2, pred_2)\n",
    "print('iou_2:', iou_2)"
   ]
  },
  {
   "cell_type": "code",
   "execution_count": 4,
   "id": "b1110b8e",
   "metadata": {},
   "outputs": [],
   "source": [
    "# Codeblock 4\n",
    "sse = nn.MSELoss(reduction=\"sum\")\n",
    "\n",
    "lambda_coord = 5\n",
    "lambda_noobj = 0.5\n",
    "\n",
    "S = 7\n",
    "B = 2\n",
    "C = 20\n",
    "\n",
    "BATCH_SIZE = 1"
   ]
  },
  {
   "cell_type": "code",
   "execution_count": 5,
   "id": "c60ee71c",
   "metadata": {},
   "outputs": [],
   "source": [
    "# Codeblock 5a\n",
    "def loss(target, prediction):    #(1)\n",
    "    \n",
    "    target = target.reshape(-1, S, S, C+5)                #(2)\n",
    "    prediction = prediction.reshape(-1, S, S, C+B*5)      #(3)\n",
    "\n",
    "    obj = target[..., 20].unsqueeze(3)      #(4)\n",
    "    noobj = 1 - obj                         #(5)\n",
    "    \n",
    "# Codeblock 5b\n",
    "    target_bbox = target[..., 21:25]      #(1)\n",
    "    \n",
    "    pred_bbox0 = prediction[..., 21:25]   #(2)\n",
    "    pred_bbox1 = prediction[..., 26:30]   #(3)\n",
    "    \n",
    "    iou_pred_bbox0 = intersection_over_union(pred_bbox0, target_bbox)  #(4)\n",
    "    iou_pred_bbox1 = intersection_over_union(pred_bbox1, target_bbox)  #(5)\n",
    "    \n",
    "    iou_pred_bboxes = torch.cat([iou_pred_bbox0.unsqueeze(0), \n",
    "                                 iou_pred_bbox1.unsqueeze(0)], \n",
    "                                dim=0)\n",
    "    \n",
    "    best_iou, best_bbox_idx = torch.max(iou_pred_bboxes, dim=0)    #(6)\n",
    "    \n",
    "    target_bbox = obj * target_bbox                                #(7)\n",
    "    best_bbox   = obj * (best_bbox_idx*pred_bbox1                  #(8)\n",
    "                         + (1-best_bbox_idx)*pred_bbox0)\n",
    "\n",
    "    target_bbox[..., 2:4] = torch.sqrt(target_bbox[..., 2:4])      #(9)\n",
    "    best_bbox[..., 2:4]   = torch.sign(best_bbox[..., 2:4]) * torch.sqrt(torch.abs(best_bbox[..., 2:4]) + 1e-6)  #(10)\n",
    "\n",
    "    bbox_loss = sse(          #(11)\n",
    "        torch.flatten(target_bbox, end_dim=-2),\n",
    "        torch.flatten(best_bbox, end_dim=-2)\n",
    "    )\n",
    "\n",
    "    \n",
    "# Codeblock 5c\n",
    "    target_bbox_confidence = target[..., 20:21]      #(1)\n",
    "    pred_bbox0_confidence = prediction[..., 20:21]   #(2)\n",
    "    pred_bbox1_confidence = prediction[..., 25:26]   #(3)\n",
    "    \n",
    "    target_bbox_confidence = obj * target_bbox_confidence                 #(4)\n",
    "    best_bbox_confidence   = obj * (best_bbox_idx*pred_bbox1_confidence     #(5)\n",
    "                                    + (1-best_bbox_idx)*pred_bbox0_confidence)\n",
    "    \n",
    "    object_loss = sse(      #(6)\n",
    "        torch.flatten(obj * target_bbox_confidence * best_iou),           #(7)\n",
    "        torch.flatten(obj * best_bbox_confidence),\n",
    "    )\n",
    "\n",
    "    \n",
    "# Codeblock 5d\n",
    "    no_object_loss = sse(\n",
    "        torch.flatten(noobj * target_bbox_confidence),\n",
    "        torch.flatten(noobj * pred_bbox0_confidence),\n",
    "    )\n",
    "    \n",
    "    no_object_loss += sse(          #(1)\n",
    "        torch.flatten(noobj * target_bbox_confidence),\n",
    "        torch.flatten(noobj * pred_bbox1_confidence),\n",
    "    )\n",
    "    \n",
    "    \n",
    "# Codeblock 5e\n",
    "    target_class = target[..., :20]      #(1)\n",
    "    pred_class = prediction[..., :20]    #(2)\n",
    "    \n",
    "    \n",
    "    class_loss = sse(      #(3)\n",
    "        torch.flatten(obj * target_class, end_dim=-2),\n",
    "        torch.flatten(obj * pred_class, end_dim=-2),\n",
    "    )\n",
    "\n",
    "    \n",
    "# Codeblock 5f\n",
    "    total_loss = (\n",
    "        lambda_coord * bbox_loss           #(1)\n",
    "        + object_loss\n",
    "        + lambda_noobj * no_object_loss    #(2)\n",
    "        + class_loss\n",
    "    )\n",
    "    \n",
    "    return bbox_loss, object_loss, no_object_loss, class_loss, total_loss"
   ]
  },
  {
   "cell_type": "code",
   "execution_count": 6,
   "id": "a5e9cc68",
   "metadata": {},
   "outputs": [
    {
     "data": {
      "text/plain": [
       "tensor(1.8474e-13)"
      ]
     },
     "execution_count": 6,
     "metadata": {},
     "output_type": "execute_result"
    }
   ],
   "source": [
    "# Codeblock 6\n",
    "def bbox_loss_test():\n",
    "    target = torch.zeros(BATCH_SIZE, S, S, (C+5))        #(1)\n",
    "    prediction = torch.zeros(BATCH_SIZE, S, S, (C+B*5))  #(2)\n",
    "    \n",
    "    target[0, 3, 3, 21:25] = torch.tensor([0.4, 0.5, 2.4, 3.2])    #(3)\n",
    "    target[0, 3, 3, 20] = 1.0    #(4)\n",
    "    target[0, 3, 3, 7] = 1.0     #(5)\n",
    "    \n",
    "    prediction[0, 3, 3, 21:25] = torch.tensor([0.4, 0.5, 2.4, 3.2])       #(6)\n",
    "    #prediction[0, 3, 3, 21:25] = torch.tensor([0.4, 0.5, 2.8, 4.0])      #(7)\n",
    "    #prediction[0, 3, 3, 21:25] = torch.tensor([0.3, 0.2, 3.2, 4.3])      #(8)\n",
    "    \n",
    "    target = target.reshape(BATCH_SIZE, S*S*(C+5))            #(9)\n",
    "    prediction = prediction.reshape(BATCH_SIZE, S*S*(C+B*5))  #(10)\n",
    "\n",
    "    bbox_loss = loss(target, prediction)[0]    #(11)\n",
    "    \n",
    "    return bbox_loss\n",
    "\n",
    "bbox_loss_test()"
   ]
  },
  {
   "cell_type": "code",
   "execution_count": 7,
   "id": "d139a6b7",
   "metadata": {},
   "outputs": [
    {
     "data": {
      "text/plain": [
       "tensor(1.4211e-14)"
      ]
     },
     "execution_count": 7,
     "metadata": {},
     "output_type": "execute_result"
    }
   ],
   "source": [
    "# Codeblock 7\n",
    "def object_loss_test():\n",
    "    target = torch.zeros(BATCH_SIZE, S, S, (C+5))        #(1)\n",
    "    prediction = torch.zeros(BATCH_SIZE, S, S, (C+B*5))  #(2)\n",
    "    \n",
    "    target[0, 3, 3, 21:25] = torch.tensor([0.4, 0.5, 2.4, 3.2])      #(3)\n",
    "    target[0, 3, 3, 20] = 1.0    #(4)\n",
    "    target[0, 3, 3, 7] = 1.0     #(5)\n",
    "    \n",
    "    prediction[0, 3, 3, 21:25] = torch.tensor([0.4, 0.5, 2.4, 3.2])  #(6)\n",
    "    \n",
    "    prediction[0, 3, 3, 20] = 1.0    #(7)\n",
    "    #prediction[0, 3, 3, 20] = 0.9   #(8)\n",
    "    #prediction[0, 3, 3, 20] = 0.6   #(9)\n",
    "    \n",
    "    target = target.reshape(BATCH_SIZE, S*S*(C+5))\n",
    "    prediction = prediction.reshape(BATCH_SIZE, S*S*(C+B*5))\n",
    "\n",
    "    object_loss = loss(target, prediction)[1]\n",
    "    \n",
    "    return object_loss\n",
    "\n",
    "object_loss_test()"
   ]
  },
  {
   "cell_type": "code",
   "execution_count": 8,
   "id": "57bd015f",
   "metadata": {},
   "outputs": [
    {
     "data": {
      "text/plain": [
       "tensor(0.)"
      ]
     },
     "execution_count": 8,
     "metadata": {},
     "output_type": "execute_result"
    }
   ],
   "source": [
    "# Codeblock 8\n",
    "def class_loss_test():\n",
    "    target = torch.zeros(BATCH_SIZE, S, S, (C+5))\n",
    "    prediction = torch.zeros(BATCH_SIZE, S, S, (C+B*5))\n",
    "    \n",
    "    target[0, 3, 3, 21:25] = torch.tensor([0.4, 0.5, 2.4, 3.2])\n",
    "    target[0, 3, 3, 20] = 1.0\n",
    "    target[0, 3, 3, 7] = 1.0\n",
    "    \n",
    "    prediction[0, 3, 3, 21:25] = torch.tensor([0.4, 0.5, 2.4, 3.2])\n",
    "    \n",
    "    prediction[0, 3, 3, 7] = 1.0    #(1)\n",
    "    #prediction[0, 3, 3, 7:9] = torch.tensor([0.9, 0.1])    #(2)\n",
    "    #prediction[0, 3, 3, 7:9] = torch.tensor([0.2, 0.8])    #(3)\n",
    "    \n",
    "    target = target.reshape(BATCH_SIZE, S*S*(C+5))\n",
    "    prediction = prediction.reshape(BATCH_SIZE, S*S*(C+B*5))\n",
    "\n",
    "    class_loss = loss(target, prediction)[3]\n",
    "    \n",
    "    return class_loss\n",
    "\n",
    "class_loss_test()"
   ]
  },
  {
   "cell_type": "code",
   "execution_count": 9,
   "id": "b2a72e60",
   "metadata": {},
   "outputs": [
    {
     "data": {
      "text/plain": [
       "tensor(0.)"
      ]
     },
     "execution_count": 9,
     "metadata": {},
     "output_type": "execute_result"
    }
   ],
   "source": [
    "# Codeblock 9\n",
    "def no_object_loss_test():\n",
    "    target = torch.zeros(BATCH_SIZE, S, S, (C+5))\n",
    "    prediction = torch.zeros(BATCH_SIZE, S, S, (C+B*5))\n",
    "    \n",
    "    target[0, 1, 1, 20] = 0.0        #(1)\n",
    "\n",
    "    prediction[0, 1, 1, 20] = 0.0    #(2)\n",
    "    prediction[0, 1, 1, 25] = 0.0    #(3)\n",
    "\n",
    "    #prediction[0, 1, 1, 20] = 0.2   #(4)\n",
    "    #prediction[0, 1, 1, 25] = 0.3   #(5)\n",
    "    \n",
    "    target = target.reshape(BATCH_SIZE, S*S*(C+5))\n",
    "    prediction = prediction.reshape(BATCH_SIZE, S*S*(C+B*5))\n",
    "\n",
    "    no_object_loss = loss(target, prediction)[2]\n",
    "    \n",
    "    return no_object_loss\n",
    "\n",
    "no_object_loss_test()"
   ]
  },
  {
   "cell_type": "code",
   "execution_count": null,
   "id": "0a9d40cd",
   "metadata": {},
   "outputs": [],
   "source": []
  }
 ],
 "metadata": {
  "kernelspec": {
   "display_name": "Python 3 (ipykernel)",
   "language": "python",
   "name": "python3"
  },
  "language_info": {
   "codemirror_mode": {
    "name": "ipython",
    "version": 3
   },
   "file_extension": ".py",
   "mimetype": "text/x-python",
   "name": "python",
   "nbconvert_exporter": "python",
   "pygments_lexer": "ipython3",
   "version": "3.11.4"
  }
 },
 "nbformat": 4,
 "nbformat_minor": 5
}

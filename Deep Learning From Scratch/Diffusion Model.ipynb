{
 "cells": [
  {
   "cell_type": "code",
   "execution_count": 1,
   "metadata": {
    "_cell_guid": "b1076dfc-b9ad-4769-8c92-a6c4dae69d19",
    "_uuid": "8f2839f25d086af736a60e9eeb907d3b93b6e0e5",
    "execution": {
     "iopub.execute_input": "2024-12-30T02:36:25.536248Z",
     "iopub.status.busy": "2024-12-30T02:36:25.535934Z",
     "iopub.status.idle": "2024-12-30T02:36:29.783494Z",
     "shell.execute_reply": "2024-12-30T02:36:29.782738Z",
     "shell.execute_reply.started": "2024-12-30T02:36:25.536216Z"
    },
    "trusted": true
   },
   "outputs": [],
   "source": [
    "# Codeblock 1\n",
    "import matplotlib.pyplot as plt\n",
    "import torch\n",
    "import torch.nn as nn\n",
    "\n",
    "from torch.optim import Adam\n",
    "from torch.utils.data import DataLoader\n",
    "from torchvision import datasets, transforms\n",
    "from tqdm import tqdm"
   ]
  },
  {
   "cell_type": "code",
   "execution_count": 2,
   "metadata": {
    "execution": {
     "iopub.execute_input": "2024-12-30T02:36:29.784797Z",
     "iopub.status.busy": "2024-12-30T02:36:29.784484Z",
     "iopub.status.idle": "2024-12-30T02:36:29.791422Z",
     "shell.execute_reply": "2024-12-30T02:36:29.790536Z",
     "shell.execute_reply.started": "2024-12-30T02:36:29.784777Z"
    },
    "trusted": true
   },
   "outputs": [
    {
     "data": {
      "text/plain": [
       "device(type='cuda')"
      ]
     },
     "execution_count": 2,
     "metadata": {},
     "output_type": "execute_result"
    }
   ],
   "source": [
    "# Codeblock 2\n",
    "IMAGE_SIZE     = 28     #(1)\n",
    "NUM_CHANNELS   = 1      #(2)\n",
    "\n",
    "BATCH_SIZE     = 2\n",
    "NUM_EPOCHS     = 10\n",
    "LEARNING_RATE  = 0.001\n",
    "NUM_TIMESTEPS  = 1000   #(3)\n",
    "BETA_START     = 0.0001 #(4)\n",
    "BETA_END       = 0.02   #(5)\n",
    "TIME_EMBED_DIM = 32     #(6)\n",
    "DEVICE = torch.device(\"cuda\" if torch.cuda.is_available else \"cpu\")  #(7)\n",
    "DEVICE"
   ]
  },
  {
   "cell_type": "code",
   "execution_count": 5,
   "metadata": {
    "execution": {
     "iopub.execute_input": "2024-12-30T02:36:39.576793Z",
     "iopub.status.busy": "2024-12-30T02:36:39.576463Z",
     "iopub.status.idle": "2024-12-30T02:36:39.581686Z",
     "shell.execute_reply": "2024-12-30T02:36:39.580897Z",
     "shell.execute_reply.started": "2024-12-30T02:36:39.576766Z"
    },
    "trusted": true
   },
   "outputs": [],
   "source": [
    "# Codeblock 3\n",
    "class TimeEmbedding(nn.Module):\n",
    "  def forward(self):\n",
    "          time = torch.arange(NUM_TIMESTEPS, device=DEVICE).reshape(NUM_TIMESTEPS, 1)  #(1)\n",
    "          #print(f\"time\\t\\t: {time.shape}\")\n",
    "          \n",
    "          i = torch.arange(0, TIME_EMBED_DIM, 2, device=DEVICE)\n",
    "          denominator = torch.pow(10000, i/TIME_EMBED_DIM)\n",
    "          #print(f\"denominator\\t: {denominator.shape}\")\n",
    "          \n",
    "          even_time_embed = torch.sin(time/denominator)  #(1)\n",
    "          odd_time_embed  = torch.cos(time/denominator)  #(2)\n",
    "          #print(f\"even_time_embed\\t: {even_time_embed.shape}\")\n",
    "          #print(f\"odd_time_embed\\t: {odd_time_embed.shape}\")\n",
    "          \n",
    "          stacked = torch.stack([even_time_embed, odd_time_embed], dim=2)  #(3)\n",
    "          #print(f\"stacked\\t\\t: {stacked.shape}\")\n",
    "          time_embed = torch.flatten(stacked, start_dim=1, end_dim=2)  #(4)\n",
    "          #print(f\"time_embed\\t: {time_embed.shape}\")\n",
    "          \n",
    "          return time_embed"
   ]
  },
  {
   "cell_type": "code",
   "execution_count": 4,
   "metadata": {
    "execution": {
     "iopub.execute_input": "2024-12-30T02:36:33.182383Z",
     "iopub.status.busy": "2024-12-30T02:36:33.182053Z",
     "iopub.status.idle": "2024-12-30T02:36:33.588393Z",
     "shell.execute_reply": "2024-12-30T02:36:33.587308Z",
     "shell.execute_reply.started": "2024-12-30T02:36:33.182358Z"
    },
    "trusted": true
   },
   "outputs": [
    {
     "name": "stdout",
     "output_type": "stream",
     "text": [
      "time\t\t: torch.Size([1000, 1])\n",
      "denominator\t: torch.Size([16])\n",
      "even_time_embed\t: torch.Size([1000, 16])\n",
      "odd_time_embed\t: torch.Size([1000, 16])\n",
      "stacked\t\t: torch.Size([1000, 16, 2])\n",
      "time_embed\t: torch.Size([1000, 32])\n"
     ]
    }
   ],
   "source": [
    "# Codeblock 4\n",
    "time_embed_test = TimeEmbedding()\n",
    "out_test = time_embed_test()"
   ]
  },
  {
   "cell_type": "code",
   "execution_count": 8,
   "metadata": {
    "execution": {
     "iopub.execute_input": "2024-12-30T02:36:54.071710Z",
     "iopub.status.busy": "2024-12-30T02:36:54.071278Z",
     "iopub.status.idle": "2024-12-30T02:36:54.080953Z",
     "shell.execute_reply": "2024-12-30T02:36:54.080045Z",
     "shell.execute_reply.started": "2024-12-30T02:36:54.071655Z"
    },
    "trusted": true
   },
   "outputs": [],
   "source": [
    "# Codeblock 5a\n",
    "class DoubleConv(nn.Module):\n",
    "    def __init__(self, in_channels, out_channels):  #(1)\n",
    "        super().__init__()\n",
    "        \n",
    "        self.conv_0 = nn.Conv2d(in_channels=in_channels,  #(2)\n",
    "                                out_channels=out_channels, \n",
    "                                kernel_size=3, \n",
    "                                bias=False, \n",
    "                                padding=1)\n",
    "        self.bn_0 = nn.BatchNorm2d(num_features=out_channels)  #(3)\n",
    "        \n",
    "        self.time_embedding = TimeEmbedding()  #(4)\n",
    "        self.linear = nn.Linear(in_features=TIME_EMBED_DIM,  #(5)\n",
    "                                out_features=out_channels)\n",
    "        \n",
    "        self.conv_1 = nn.Conv2d(in_channels=out_channels,  #(6)\n",
    "                                out_channels=out_channels, \n",
    "                                kernel_size=3, \n",
    "                                bias=False, \n",
    "                                padding=1)\n",
    "        self.bn_1 = nn.BatchNorm2d(num_features=out_channels)  #(7)\n",
    "        \n",
    "        self.relu = nn.ReLU(inplace=True)  #(8)\n",
    "\n",
    "# Codeblock 5b\n",
    "    def forward(self, x, t):  #(1)\n",
    "        #print(f'images\\t\\t\\t: {x.size()}')\n",
    "        #print(f'timesteps\\t\\t: {t.size()}, {t}')\n",
    "        \n",
    "        x = self.conv_0(x)  #(2)\n",
    "        x = self.bn_0(x)    #(3)\n",
    "        x = self.relu(x)    #(4)\n",
    "        #print(f'\\nafter first conv\\t: {x.size()}')\n",
    "        \n",
    "        time_embed = self.time_embedding()[t]      #(5)\n",
    "        #print(f'\\ntime_embed\\t\\t: {time_embed.size()}')\n",
    "        \n",
    "        time_embed = self.linear(time_embed)       #(6)\n",
    "        #print(f'time_embed after linear\\t: {time_embed.size()}')\n",
    "        \n",
    "        time_embed = time_embed[:, :, None, None]  #(7)\n",
    "        #print(f'time_embed expanded\\t: {time_embed.size()}')\n",
    "        \n",
    "        x = x + time_embed  #(8)\n",
    "        #print(f'\\nafter summation\\t\\t: {x.size()}')\n",
    "        \n",
    "        x = self.conv_1(x)  #(9)\n",
    "        x = self.bn_1(x)    #(10)\n",
    "        x = self.relu(x)    #(11)\n",
    "        #print(f'after second conv\\t: {x.size()}')\n",
    "        \n",
    "        return x"
   ]
  },
  {
   "cell_type": "code",
   "execution_count": 7,
   "metadata": {
    "execution": {
     "iopub.execute_input": "2024-12-30T02:36:50.126478Z",
     "iopub.status.busy": "2024-12-30T02:36:50.126168Z",
     "iopub.status.idle": "2024-12-30T02:36:50.755250Z",
     "shell.execute_reply": "2024-12-30T02:36:50.754516Z",
     "shell.execute_reply.started": "2024-12-30T02:36:50.126451Z"
    },
    "trusted": true
   },
   "outputs": [
    {
     "name": "stdout",
     "output_type": "stream",
     "text": [
      "images\t\t\t: torch.Size([2, 1, 28, 28])\n",
      "timesteps\t\t: torch.Size([2]), tensor([781, 636], device='cuda:0')\n",
      "\n",
      "after first conv\t: torch.Size([2, 64, 28, 28])\n",
      "\n",
      "time_embed\t\t: torch.Size([2, 32])\n",
      "time_embed after linear\t: torch.Size([2, 64])\n",
      "time_embed expanded\t: torch.Size([2, 64, 1, 1])\n",
      "\n",
      "after summation\t\t: torch.Size([2, 64, 28, 28])\n",
      "after second conv\t: torch.Size([2, 64, 28, 28])\n"
     ]
    }
   ],
   "source": [
    "# Codeblock 6\n",
    "double_conv_test = DoubleConv(in_channels=1, out_channels=64).to(DEVICE)  #(1)\n",
    "\n",
    "x_test = torch.randn((BATCH_SIZE, NUM_CHANNELS, IMAGE_SIZE, IMAGE_SIZE)).to(DEVICE)  #(2)\n",
    "t_test = torch.randint(0, NUM_TIMESTEPS, (BATCH_SIZE,)).to(DEVICE)  #(3)\n",
    "\n",
    "out_test = double_conv_test(x_test, t_test)  #(4)"
   ]
  },
  {
   "cell_type": "code",
   "execution_count": 11,
   "metadata": {
    "execution": {
     "iopub.execute_input": "2024-12-30T02:37:13.807743Z",
     "iopub.status.busy": "2024-12-30T02:37:13.807416Z",
     "iopub.status.idle": "2024-12-30T02:37:13.812733Z",
     "shell.execute_reply": "2024-12-30T02:37:13.811758Z",
     "shell.execute_reply.started": "2024-12-30T02:37:13.807685Z"
    },
    "trusted": true
   },
   "outputs": [],
   "source": [
    "# Codeblock 7\n",
    "class DownSample(nn.Module):\n",
    "    def __init__(self, in_channels, out_channels):  #(1)\n",
    "        super().__init__()\n",
    "        \n",
    "        self.double_conv = DoubleConv(in_channels=in_channels,  #(2)\n",
    "                                      out_channels=out_channels)\n",
    "        self.maxpool = nn.MaxPool2d(kernel_size=2, stride=2)    #(3)\n",
    "    \n",
    "    def forward(self, x, t):  #(4)\n",
    "        #print(f'original\\t\\t: {x.size()}')\n",
    "        #print(f'timesteps\\t\\t: {t.size()}, {t}')\n",
    "        \n",
    "        convolved = self.double_conv(x, t)   #(5)\n",
    "        #print(f'\\nafter double conv\\t: {convolved.size()}')\n",
    "        \n",
    "        maxpooled = self.maxpool(convolved)  #(6)\n",
    "        #print(f'after pooling\\t\\t: {maxpooled.size()}')\n",
    "        \n",
    "        return convolved, maxpooled          #(7)"
   ]
  },
  {
   "cell_type": "code",
   "execution_count": 10,
   "metadata": {
    "execution": {
     "iopub.execute_input": "2024-12-30T02:37:00.426343Z",
     "iopub.status.busy": "2024-12-30T02:37:00.426054Z",
     "iopub.status.idle": "2024-12-30T02:37:00.444230Z",
     "shell.execute_reply": "2024-12-30T02:37:00.443345Z",
     "shell.execute_reply.started": "2024-12-30T02:37:00.426313Z"
    },
    "trusted": true
   },
   "outputs": [
    {
     "name": "stdout",
     "output_type": "stream",
     "text": [
      "original\t\t: torch.Size([2, 1, 28, 28])\n",
      "timesteps\t\t: torch.Size([2]), tensor([858, 930], device='cuda:0')\n",
      "\n",
      "after double conv\t: torch.Size([2, 64, 28, 28])\n",
      "after pooling\t\t: torch.Size([2, 64, 14, 14])\n"
     ]
    }
   ],
   "source": [
    "# Codeblock 8\n",
    "down_sample_test = DownSample(in_channels=1, out_channels=64).to(DEVICE)\n",
    "\n",
    "x_test = torch.randn((BATCH_SIZE, NUM_CHANNELS, IMAGE_SIZE, IMAGE_SIZE)).to(DEVICE)\n",
    "t_test = torch.randint(0, NUM_TIMESTEPS, (BATCH_SIZE,)).to(DEVICE)\n",
    "\n",
    "out_test = down_sample_test(x_test, t_test)"
   ]
  },
  {
   "cell_type": "code",
   "execution_count": 14,
   "metadata": {
    "execution": {
     "iopub.execute_input": "2024-12-30T02:37:30.101296Z",
     "iopub.status.busy": "2024-12-30T02:37:30.101014Z",
     "iopub.status.idle": "2024-12-30T02:37:30.106520Z",
     "shell.execute_reply": "2024-12-30T02:37:30.105552Z",
     "shell.execute_reply.started": "2024-12-30T02:37:30.101274Z"
    },
    "trusted": true
   },
   "outputs": [],
   "source": [
    "# Codeblock 9\n",
    "class UpSample(nn.Module):\n",
    "    def __init__(self, in_channels, out_channels):\n",
    "        super().__init__()\n",
    "        \n",
    "        self.conv_transpose = nn.ConvTranspose2d(in_channels=in_channels,  #(1)\n",
    "                                                 out_channels=out_channels, \n",
    "                                                 kernel_size=2, stride=2)  #(2)\n",
    "        self.double_conv = DoubleConv(in_channels=in_channels,  #(3)\n",
    "                                      out_channels=out_channels)\n",
    "        \n",
    "    def forward(self, x, t, connection):  #(4)\n",
    "        #print(f'original\\t\\t: {x.size()}')\n",
    "        #print(f'timesteps\\t\\t: {t.size()}, {t}')\n",
    "        #print(f'connection\\t\\t: {connection.size()}')\n",
    "        \n",
    "        x = self.conv_transpose(x)  #(5)\n",
    "        #print(f'\\nafter conv transpose\\t: {x.size()}')\n",
    "        \n",
    "        x = torch.cat([x, connection], dim=1)  #(6)\n",
    "        #print(f'after concat\\t\\t: {x.size()}')\n",
    "        \n",
    "        x = self.double_conv(x, t)  #(7)\n",
    "        #print(f'after double conv\\t: {x.size()}')\n",
    "        \n",
    "        return x"
   ]
  },
  {
   "cell_type": "code",
   "execution_count": 13,
   "metadata": {
    "execution": {
     "iopub.execute_input": "2024-12-30T02:37:22.801186Z",
     "iopub.status.busy": "2024-12-30T02:37:22.800902Z",
     "iopub.status.idle": "2024-12-30T02:37:22.842128Z",
     "shell.execute_reply": "2024-12-30T02:37:22.841386Z",
     "shell.execute_reply.started": "2024-12-30T02:37:22.801165Z"
    },
    "trusted": true
   },
   "outputs": [
    {
     "name": "stdout",
     "output_type": "stream",
     "text": [
      "original\t\t: torch.Size([2, 128, 14, 14])\n",
      "timesteps\t\t: torch.Size([2]), tensor([678, 126], device='cuda:0')\n",
      "connection\t\t: torch.Size([2, 64, 28, 28])\n",
      "\n",
      "after conv transpose\t: torch.Size([2, 64, 28, 28])\n",
      "after concat\t\t: torch.Size([2, 128, 28, 28])\n",
      "after double conv\t: torch.Size([2, 64, 28, 28])\n"
     ]
    }
   ],
   "source": [
    "# Codeblock 10\n",
    "up_sample_test = UpSample(in_channels=128, out_channels=64).to(DEVICE)\n",
    "\n",
    "x_test = torch.randn((BATCH_SIZE, 128, 14, 14)).to(DEVICE)\n",
    "t_test = torch.randint(0, NUM_TIMESTEPS, (BATCH_SIZE,)).to(DEVICE)\n",
    "connection_test = torch.randn((BATCH_SIZE, 64, 28, 28)).to(DEVICE)\n",
    "\n",
    "out_test = up_sample_test(x_test, t_test, connection_test)"
   ]
  },
  {
   "cell_type": "code",
   "execution_count": 17,
   "metadata": {
    "execution": {
     "iopub.execute_input": "2024-12-30T02:37:45.847406Z",
     "iopub.status.busy": "2024-12-30T02:37:45.847078Z",
     "iopub.status.idle": "2024-12-30T02:37:45.853140Z",
     "shell.execute_reply": "2024-12-30T02:37:45.852347Z",
     "shell.execute_reply.started": "2024-12-30T02:37:45.847377Z"
    },
    "trusted": true
   },
   "outputs": [],
   "source": [
    "# Codeblock 11a\n",
    "class UNet(nn.Module):\n",
    "    def __init__(self):\n",
    "        super().__init__()\n",
    "        \n",
    "        self.downsample_0 = DownSample(in_channels=NUM_CHANNELS,  #(1) \n",
    "                                       out_channels=64)\n",
    "        self.downsample_1 = DownSample(in_channels=64,            #(2)\n",
    "                                       out_channels=128)\n",
    "        \n",
    "        self.bottleneck   = DoubleConv(in_channels=128,           #(3) \n",
    "                                       out_channels=256)\n",
    "        \n",
    "        self.upsample_0   = UpSample(in_channels=256,             #(4) \n",
    "                                     out_channels=128)\n",
    "        self.upsample_1   = UpSample(in_channels=128,             #(5)\n",
    "                                     out_channels=64)\n",
    "        \n",
    "        self.output = nn.Conv2d(in_channels=64,                   #(6)\n",
    "                                out_channels=NUM_CHANNELS, \n",
    "                                kernel_size=1)\n",
    "\n",
    "# Codeblock 11b\n",
    "    def forward(self, x, t):  #(1)\n",
    "            #print(f'original\\t\\t: {x.size()}')\n",
    "            #print(f'timesteps\\t\\t: {t.size()}, {t}')\n",
    "            \n",
    "            convolved_0, maxpooled_0 = self.downsample_0(x, t)\n",
    "            #print(f'\\nmaxpooled_0\\t\\t: {maxpooled_0.size()}')\n",
    "            \n",
    "            convolved_1, maxpooled_1 = self.downsample_1(maxpooled_0, t)\n",
    "            #print(f'maxpooled_1\\t\\t: {maxpooled_1.size()}')\n",
    "            \n",
    "            x = self.bottleneck(maxpooled_1, t)\n",
    "            #print(f'after bottleneck\\t: {x.size()}')\n",
    "    \n",
    "            upsampled_0 = self.upsample_0(x, t, convolved_1)\n",
    "            #print(f'upsampled_0\\t\\t: {upsampled_0.size()}')\n",
    "            \n",
    "            upsampled_1 = self.upsample_1(upsampled_0, t, convolved_0)\n",
    "            #print(f'upsampled_1\\t\\t: {upsampled_1.size()}')\n",
    "            \n",
    "            x = self.output(upsampled_1)\n",
    "            #print(f'final output\\t\\t: {x.size()}')\n",
    "            \n",
    "            return x"
   ]
  },
  {
   "cell_type": "code",
   "execution_count": 16,
   "metadata": {
    "execution": {
     "iopub.execute_input": "2024-12-30T02:37:41.898074Z",
     "iopub.status.busy": "2024-12-30T02:37:41.897786Z",
     "iopub.status.idle": "2024-12-30T02:37:41.972773Z",
     "shell.execute_reply": "2024-12-30T02:37:41.971913Z",
     "shell.execute_reply.started": "2024-12-30T02:37:41.898053Z"
    },
    "trusted": true
   },
   "outputs": [
    {
     "name": "stdout",
     "output_type": "stream",
     "text": [
      "original\t\t: torch.Size([2, 1, 28, 28])\n",
      "timesteps\t\t: torch.Size([2]), tensor([282, 459], device='cuda:0')\n",
      "\n",
      "maxpooled_0\t\t: torch.Size([2, 64, 14, 14])\n",
      "maxpooled_1\t\t: torch.Size([2, 128, 7, 7])\n",
      "after bottleneck\t: torch.Size([2, 256, 7, 7])\n",
      "upsampled_0\t\t: torch.Size([2, 128, 14, 14])\n",
      "upsampled_1\t\t: torch.Size([2, 64, 28, 28])\n",
      "final output\t\t: torch.Size([2, 1, 28, 28])\n"
     ]
    }
   ],
   "source": [
    "# Codeblock 12\n",
    "unet_test = UNet().to(DEVICE)\n",
    "\n",
    "x_test = torch.randn((BATCH_SIZE, NUM_CHANNELS, IMAGE_SIZE, IMAGE_SIZE)).to(DEVICE)\n",
    "t_test = torch.randint(0, NUM_TIMESTEPS, (BATCH_SIZE,)).to(DEVICE)\n",
    "\n",
    "out_test = unet_test(x_test, t_test)"
   ]
  },
  {
   "cell_type": "code",
   "execution_count": 18,
   "metadata": {
    "execution": {
     "iopub.execute_input": "2024-12-30T02:37:52.954106Z",
     "iopub.status.busy": "2024-12-30T02:37:52.953822Z",
     "iopub.status.idle": "2024-12-30T02:37:55.139853Z",
     "shell.execute_reply": "2024-12-30T02:37:55.138919Z",
     "shell.execute_reply.started": "2024-12-30T02:37:52.954086Z"
    },
    "trusted": true
   },
   "outputs": [
    {
     "name": "stdout",
     "output_type": "stream",
     "text": [
      "Downloading http://yann.lecun.com/exdb/mnist/train-images-idx3-ubyte.gz\n",
      "Failed to download (trying next):\n",
      "HTTP Error 403: Forbidden\n",
      "\n",
      "Downloading https://ossci-datasets.s3.amazonaws.com/mnist/train-images-idx3-ubyte.gz\n",
      "Downloading https://ossci-datasets.s3.amazonaws.com/mnist/train-images-idx3-ubyte.gz to ./data/MNIST/raw/train-images-idx3-ubyte.gz\n"
     ]
    },
    {
     "name": "stderr",
     "output_type": "stream",
     "text": [
      "100%|██████████| 9912422/9912422 [00:00<00:00, 53038497.37it/s]\n"
     ]
    },
    {
     "name": "stdout",
     "output_type": "stream",
     "text": [
      "Extracting ./data/MNIST/raw/train-images-idx3-ubyte.gz to ./data/MNIST/raw\n",
      "\n",
      "Downloading http://yann.lecun.com/exdb/mnist/train-labels-idx1-ubyte.gz\n",
      "Failed to download (trying next):\n",
      "HTTP Error 403: Forbidden\n",
      "\n",
      "Downloading https://ossci-datasets.s3.amazonaws.com/mnist/train-labels-idx1-ubyte.gz\n",
      "Downloading https://ossci-datasets.s3.amazonaws.com/mnist/train-labels-idx1-ubyte.gz to ./data/MNIST/raw/train-labels-idx1-ubyte.gz\n"
     ]
    },
    {
     "name": "stderr",
     "output_type": "stream",
     "text": [
      "100%|██████████| 28881/28881 [00:00<00:00, 1792107.20it/s]"
     ]
    },
    {
     "name": "stdout",
     "output_type": "stream",
     "text": [
      "Extracting ./data/MNIST/raw/train-labels-idx1-ubyte.gz to ./data/MNIST/raw\n",
      "\n",
      "Downloading http://yann.lecun.com/exdb/mnist/t10k-images-idx3-ubyte.gz\n"
     ]
    },
    {
     "name": "stderr",
     "output_type": "stream",
     "text": [
      "\n"
     ]
    },
    {
     "name": "stdout",
     "output_type": "stream",
     "text": [
      "Failed to download (trying next):\n",
      "HTTP Error 403: Forbidden\n",
      "\n",
      "Downloading https://ossci-datasets.s3.amazonaws.com/mnist/t10k-images-idx3-ubyte.gz\n",
      "Downloading https://ossci-datasets.s3.amazonaws.com/mnist/t10k-images-idx3-ubyte.gz to ./data/MNIST/raw/t10k-images-idx3-ubyte.gz\n"
     ]
    },
    {
     "name": "stderr",
     "output_type": "stream",
     "text": [
      "100%|██████████| 1648877/1648877 [00:00<00:00, 14414954.18it/s]\n"
     ]
    },
    {
     "name": "stdout",
     "output_type": "stream",
     "text": [
      "Extracting ./data/MNIST/raw/t10k-images-idx3-ubyte.gz to ./data/MNIST/raw\n",
      "\n",
      "Downloading http://yann.lecun.com/exdb/mnist/t10k-labels-idx1-ubyte.gz\n",
      "Failed to download (trying next):\n",
      "HTTP Error 403: Forbidden\n",
      "\n",
      "Downloading https://ossci-datasets.s3.amazonaws.com/mnist/t10k-labels-idx1-ubyte.gz\n",
      "Downloading https://ossci-datasets.s3.amazonaws.com/mnist/t10k-labels-idx1-ubyte.gz to ./data/MNIST/raw/t10k-labels-idx1-ubyte.gz\n"
     ]
    },
    {
     "name": "stderr",
     "output_type": "stream",
     "text": [
      "100%|██████████| 4542/4542 [00:00<00:00, 6917403.33it/s]"
     ]
    },
    {
     "name": "stdout",
     "output_type": "stream",
     "text": [
      "Extracting ./data/MNIST/raw/t10k-labels-idx1-ubyte.gz to ./data/MNIST/raw\n",
      "\n"
     ]
    },
    {
     "name": "stderr",
     "output_type": "stream",
     "text": [
      "\n"
     ]
    }
   ],
   "source": [
    "# Codeblock 13\n",
    "transform = transforms.Compose([  #(1)\n",
    "    transforms.ToTensor(),        #(2)\n",
    "    transforms.Normalize((0.5,), (0.5,))  #(3)\n",
    "])\n",
    "\n",
    "mnist_dataset = datasets.MNIST(   #(4)\n",
    "    root='./data', \n",
    "    train=True,           #(5)\n",
    "    download=True, \n",
    "    transform=transform   #(6)\n",
    ")\n",
    "\n",
    "loader = DataLoader(mnist_dataset,  #(7)\n",
    "                    batch_size=BATCH_SIZE,\n",
    "                    drop_last=True, \n",
    "                    shuffle=True)"
   ]
  },
  {
   "cell_type": "code",
   "execution_count": 19,
   "metadata": {
    "execution": {
     "iopub.execute_input": "2024-12-30T02:38:10.390674Z",
     "iopub.status.busy": "2024-12-30T02:38:10.390366Z",
     "iopub.status.idle": "2024-12-30T02:38:10.429545Z",
     "shell.execute_reply": "2024-12-30T02:38:10.428865Z",
     "shell.execute_reply.started": "2024-12-30T02:38:10.390649Z"
    },
    "trusted": true
   },
   "outputs": [
    {
     "name": "stdout",
     "output_type": "stream",
     "text": [
      "images\t\t: torch.Size([2, 1, 28, 28])\n",
      "labels\t\t: torch.Size([2])\n",
      "min value\t: tensor(-1.)\n",
      "max value\t: tensor(1.)\n"
     ]
    }
   ],
   "source": [
    "# Codeblock 14\n",
    "images, labels = next(iter(loader))\n",
    "\n",
    "print('images\\t\\t:', images.shape)\n",
    "print('labels\\t\\t:', labels.shape)\n",
    "print('min value\\t:', images.min())\n",
    "print('max value\\t:', images.max())"
   ]
  },
  {
   "cell_type": "code",
   "execution_count": 20,
   "metadata": {
    "execution": {
     "iopub.execute_input": "2024-12-30T02:38:15.804733Z",
     "iopub.status.busy": "2024-12-30T02:38:15.804409Z",
     "iopub.status.idle": "2024-12-30T02:38:16.025737Z",
     "shell.execute_reply": "2024-12-30T02:38:16.024898Z",
     "shell.execute_reply.started": "2024-12-30T02:38:15.804668Z"
    },
    "trusted": true
   },
   "outputs": [
    {
     "data": {
      "image/png": "[encoded data removed]",
      "text/plain": [
       "<Figure size 640x480 with 1 Axes>"
      ]
     },
     "metadata": {},
     "output_type": "display_data"
    }
   ],
   "source": [
    "# Codeblock 15   \n",
    "plt.imshow(images[0].squeeze(), cmap='gray')\n",
    "plt.show()"
   ]
  },
  {
   "cell_type": "code",
   "execution_count": 21,
   "metadata": {
    "execution": {
     "iopub.execute_input": "2024-12-30T02:38:21.593344Z",
     "iopub.status.busy": "2024-12-30T02:38:21.593065Z",
     "iopub.status.idle": "2024-12-30T02:38:21.602153Z",
     "shell.execute_reply": "2024-12-30T02:38:21.601294Z",
     "shell.execute_reply.started": "2024-12-30T02:38:21.593321Z"
    },
    "trusted": true
   },
   "outputs": [],
   "source": [
    "# Codeblock 16a\n",
    "class NoiseScheduler:\n",
    "    def __init__(self):\n",
    "        self.betas = torch.linspace(BETA_START, BETA_END, NUM_TIMESTEPS)  #(1)\n",
    "        self.alphas = 1. - self.betas\n",
    "        self.alphas_cum_prod = torch.cumprod(self.alphas, dim=0)\n",
    "        self.sqrt_alphas_cum_prod = torch.sqrt(self.alphas_cum_prod)\n",
    "        self.sqrt_one_minus_alphas_cum_prod = torch.sqrt(1. - self.alphas_cum_prod)\n",
    "\n",
    "# Codeblock 16b\n",
    "    def forward_diffusion(self, original, noise, t):\n",
    "        sqrt_alphas_cum_prod_t = self.sqrt_alphas_cum_prod[t]\n",
    "        sqrt_alphas_cum_prod_t = sqrt_alphas_cum_prod_t.to(DEVICE).view(-1, 1, 1, 1)  #(1)\n",
    "        \n",
    "        sqrt_one_minus_alphas_cum_prod_t = self.sqrt_one_minus_alphas_cum_prod[t]\n",
    "        sqrt_one_minus_alphas_cum_prod_t = sqrt_one_minus_alphas_cum_prod_t.to(DEVICE).view(-1, 1, 1, 1)  #(2)\n",
    "        \n",
    "        noisy_image = sqrt_alphas_cum_prod_t * original + sqrt_one_minus_alphas_cum_prod_t * noise  #(3)\n",
    "        \n",
    "        return noisy_image\n",
    "\n",
    "# Codeblock 16c\n",
    "    def backward_diffusion(self, current_image, predicted_noise, t):  #(1)\n",
    "        denoised_image = (current_image - (self.sqrt_one_minus_alphas_cum_prod[t] * predicted_noise)) / self.sqrt_alphas_cum_prod[t]  #(2)\n",
    "        denoised_image = 2 * (denoised_image - denoised_image.min()) / (denoised_image.max() - denoised_image.min()) - 1  #(3)\n",
    "        \n",
    "        current_prediction = current_image - ((self.betas[t] * predicted_noise) / (self.sqrt_one_minus_alphas_cum_prod[t]))  #(4)\n",
    "        current_prediction = current_prediction / torch.sqrt(self.alphas[t])  #(5)\n",
    "        \n",
    "        if t == 0:  #(6)\n",
    "            return current_prediction, denoised_image\n",
    "        \n",
    "        else:\n",
    "            variance = (1 - self.alphas_cum_prod[t-1]) / (1. - self.alphas_cum_prod[t])  #(7)\n",
    "            variance = variance * self.betas[t]  #(8)\n",
    "            sigma = variance ** 0.5\n",
    "            z = torch.randn(current_image.shape).to(DEVICE)\n",
    "            current_prediction = current_prediction + sigma*z\n",
    "            \n",
    "            return current_prediction, denoised_image"
   ]
  },
  {
   "cell_type": "code",
   "execution_count": 22,
   "metadata": {
    "execution": {
     "iopub.execute_input": "2024-12-30T02:38:24.456229Z",
     "iopub.status.busy": "2024-12-30T02:38:24.455903Z",
     "iopub.status.idle": "2024-12-30T02:38:24.477503Z",
     "shell.execute_reply": "2024-12-30T02:38:24.476795Z",
     "shell.execute_reply.started": "2024-12-30T02:38:24.456203Z"
    },
    "trusted": true
   },
   "outputs": [
    {
     "name": "stdout",
     "output_type": "stream",
     "text": [
      "betas\t\t\t\t: tensor([1.0000e-04, 1.1992e-04, 1.3984e-04, 1.5976e-04, 1.7968e-04, 1.9960e-04])\n",
      "alphas\t\t\t\t: tensor([0.9999, 0.9999, 0.9999, 0.9998, 0.9998, 0.9998])\n",
      "alphas_cum_prod\t\t\t: tensor([0.9999, 0.9998, 0.9996, 0.9995, 0.9993, 0.9991])\n",
      "sqrt_alphas_cum_prod\t\t: tensor([0.9999, 0.9999, 0.9998, 0.9997, 0.9997, 0.9996])\n",
      "sqrt_one_minus_alphas_cum_prod\t: tensor([0.0100, 0.0148, 0.0190, 0.0228, 0.0264, 0.0300])\n"
     ]
    }
   ],
   "source": [
    "# Codeblock 17\n",
    "noise_scheduler = NoiseScheduler()\n",
    "\n",
    "print(f'betas\\t\\t\\t\\t: {noise_scheduler.betas[:6]}')\n",
    "print(f'alphas\\t\\t\\t\\t: {noise_scheduler.alphas[:6]}')\n",
    "print(f'alphas_cum_prod\\t\\t\\t: {noise_scheduler.alphas_cum_prod[:6]}')\n",
    "print(f'sqrt_alphas_cum_prod\\t\\t: {noise_scheduler.sqrt_alphas_cum_prod[:6]}')\n",
    "print(f'sqrt_one_minus_alphas_cum_prod\\t: {noise_scheduler.sqrt_one_minus_alphas_cum_prod[:6]}')"
   ]
  },
  {
   "cell_type": "code",
   "execution_count": 23,
   "metadata": {
    "execution": {
     "iopub.execute_input": "2024-12-30T02:38:27.077176Z",
     "iopub.status.busy": "2024-12-30T02:38:27.076895Z",
     "iopub.status.idle": "2024-12-30T02:38:27.472944Z",
     "shell.execute_reply": "2024-12-30T02:38:27.472048Z",
     "shell.execute_reply.started": "2024-12-30T02:38:27.077156Z"
    },
    "trusted": true
   },
   "outputs": [
    {
     "data": {
      "image/png": "[encoded data removed]",
      "text/plain": [
       "<Figure size 640x480 with 1 Axes>"
      ]
     },
     "metadata": {},
     "output_type": "display_data"
    },
    {
     "data": {
      "image/png": "[encoded data removed]",
      "text/plain": [
       "<Figure size 640x480 with 1 Axes>"
      ]
     },
     "metadata": {},
     "output_type": "display_data"
    }
   ],
   "source": [
    "# Codeblock 18\n",
    "image = images[0]  #(1)\n",
    "noise = torch.randn_like(image)  #(2)\n",
    "\n",
    "plt.imshow(image.squeeze(), cmap='gray')\n",
    "plt.show()\n",
    "plt.imshow(noise.squeeze(), cmap='gray')\n",
    "plt.show()"
   ]
  },
  {
   "cell_type": "code",
   "execution_count": 24,
   "metadata": {
    "execution": {
     "iopub.execute_input": "2024-12-30T02:38:30.315480Z",
     "iopub.status.busy": "2024-12-30T02:38:30.315152Z",
     "iopub.status.idle": "2024-12-30T02:38:30.528664Z",
     "shell.execute_reply": "2024-12-30T02:38:30.527874Z",
     "shell.execute_reply.started": "2024-12-30T02:38:30.315451Z"
    },
    "trusted": true
   },
   "outputs": [
    {
     "data": {
      "image/png": "[encoded data removed]",
      "text/plain": [
       "<Figure size 640x480 with 1 Axes>"
      ]
     },
     "metadata": {},
     "output_type": "display_data"
    }
   ],
   "source": [
    "# Codeblock 19\n",
    "noisy_image_test = noise_scheduler.forward_diffusion(image.to(DEVICE), noise.to(DEVICE), t=50)\n",
    "\n",
    "plt.imshow(noisy_image_test[0].squeeze().cpu(), cmap='gray')\n",
    "plt.show()"
   ]
  },
  {
   "cell_type": "code",
   "execution_count": 25,
   "metadata": {
    "execution": {
     "iopub.execute_input": "2024-12-30T02:38:32.789772Z",
     "iopub.status.busy": "2024-12-30T02:38:32.789434Z",
     "iopub.status.idle": "2024-12-30T02:38:32.816717Z",
     "shell.execute_reply": "2024-12-30T02:38:32.816050Z",
     "shell.execute_reply.started": "2024-12-30T02:38:32.789746Z"
    },
    "trusted": true
   },
   "outputs": [],
   "source": [
    "# Codeblock 20\n",
    "model = UNet().to(DEVICE)\n",
    "noise_scheduler = NoiseScheduler()"
   ]
  },
  {
   "cell_type": "code",
   "execution_count": 26,
   "metadata": {
    "execution": {
     "iopub.execute_input": "2024-12-30T02:38:36.913600Z",
     "iopub.status.busy": "2024-12-30T02:38:36.913308Z",
     "iopub.status.idle": "2024-12-30T02:38:36.918948Z",
     "shell.execute_reply": "2024-12-30T02:38:36.918047Z",
     "shell.execute_reply.started": "2024-12-30T02:38:36.913578Z"
    },
    "trusted": true
   },
   "outputs": [],
   "source": [
    "# Codeblock 21\n",
    "def train():\n",
    "    optimizer = Adam(model.parameters(), lr=LEARNING_RATE)  #(1)\n",
    "    loss_function = nn.MSELoss()  #(2)\n",
    "    losses = []\n",
    "    \n",
    "    for epoch in range(NUM_EPOCHS):\n",
    "        print(f'Epoch no {epoch}')\n",
    "        \n",
    "        for images, _ in tqdm(loader):\n",
    "            \n",
    "            optimizer.zero_grad()\n",
    "\n",
    "            images = images.float().to(DEVICE)  #(3)\n",
    "            noise = torch.randn_like(images)  #(4)\n",
    "            t = torch.randint(0, NUM_TIMESTEPS, (BATCH_SIZE,))  #(5)\n",
    "\n",
    "            noisy_images = noise_scheduler.forward_diffusion(images, noise, t).to(DEVICE)  #(6)\n",
    "            predicted_noise = model(noisy_images, t)  #(7)\n",
    "            loss = loss_function(predicted_noise, noise)  #(8)\n",
    "            \n",
    "            losses.append(loss.item())\n",
    "            loss.backward()\n",
    "            optimizer.step()\n",
    "\n",
    "    return losses"
   ]
  },
  {
   "cell_type": "code",
   "execution_count": null,
   "metadata": {
    "execution": {
     "iopub.execute_input": "2024-12-30T02:38:43.113429Z",
     "iopub.status.busy": "2024-12-30T02:38:43.113141Z"
    },
    "trusted": true
   },
   "outputs": [
    {
     "name": "stdout",
     "output_type": "stream",
     "text": [
      "Epoch no 0\n"
     ]
    },
    {
     "name": "stderr",
     "output_type": "stream",
     "text": [
      "100%|██████████| 30000/30000 [04:25<00:00, 112.84it/s]\n"
     ]
    },
    {
     "name": "stdout",
     "output_type": "stream",
     "text": [
      "Epoch no 1\n"
     ]
    },
    {
     "name": "stderr",
     "output_type": "stream",
     "text": [
      "100%|██████████| 30000/30000 [04:24<00:00, 113.23it/s]\n"
     ]
    },
    {
     "name": "stdout",
     "output_type": "stream",
     "text": [
      "Epoch no 2\n"
     ]
    },
    {
     "name": "stderr",
     "output_type": "stream",
     "text": [
      "100%|██████████| 30000/30000 [04:25<00:00, 113.20it/s]\n"
     ]
    },
    {
     "name": "stdout",
     "output_type": "stream",
     "text": [
      "Epoch no 3\n"
     ]
    },
    {
     "name": "stderr",
     "output_type": "stream",
     "text": [
      "100%|██████████| 30000/30000 [04:25<00:00, 113.11it/s]\n"
     ]
    },
    {
     "name": "stdout",
     "output_type": "stream",
     "text": [
      "Epoch no 4\n"
     ]
    },
    {
     "name": "stderr",
     "output_type": "stream",
     "text": [
      "100%|██████████| 30000/30000 [04:24<00:00, 113.21it/s]\n"
     ]
    },
    {
     "name": "stdout",
     "output_type": "stream",
     "text": [
      "Epoch no 5\n"
     ]
    },
    {
     "name": "stderr",
     "output_type": "stream",
     "text": [
      "100%|██████████| 30000/30000 [04:24<00:00, 113.41it/s]\n"
     ]
    },
    {
     "name": "stdout",
     "output_type": "stream",
     "text": [
      "Epoch no 7\n"
     ]
    },
    {
     "name": "stderr",
     "output_type": "stream",
     "text": [
      "100%|██████████| 30000/30000 [04:25<00:00, 112.81it/s]\n"
     ]
    },
    {
     "name": "stdout",
     "output_type": "stream",
     "text": [
      "Epoch no 8\n"
     ]
    },
    {
     "name": "stderr",
     "output_type": "stream",
     "text": [
      "100%|██████████| 30000/30000 [04:25<00:00, 113.10it/s]\n"
     ]
    },
    {
     "name": "stdout",
     "output_type": "stream",
     "text": [
      "Epoch no 9\n"
     ]
    },
    {
     "name": "stderr",
     "output_type": "stream",
     "text": [
      " 57%|█████▋    | 17015/30000 [02:30<01:53, 114.14it/s]"
     ]
    }
   ],
   "source": [
    "# Codeblock 22\n",
    "losses = train()"
   ]
  },
  {
   "cell_type": "code",
   "execution_count": 29,
   "metadata": {
    "execution": {
     "iopub.execute_input": "2024-12-30T04:07:55.093397Z",
     "iopub.status.busy": "2024-12-30T04:07:55.093178Z",
     "iopub.status.idle": "2024-12-30T04:07:55.483994Z",
     "shell.execute_reply": "2024-12-30T04:07:55.483093Z",
     "shell.execute_reply.started": "2024-12-30T04:07:55.093378Z"
    },
    "trusted": true
   },
   "outputs": [
    {
     "data": {
      "text/plain": [
       "[<matplotlib.lines.Line2D at 0x7ab8f40ead40>]"
      ]
     },
     "execution_count": 29,
     "metadata": {},
     "output_type": "execute_result"
    },
    {
     "data": {
      "image/png": "[encoded data removed]",
      "text/plain": [
       "<Figure size 640x480 with 1 Axes>"
      ]
     },
     "metadata": {},
     "output_type": "display_data"
    }
   ],
   "source": [
    "# Codeblock 23\n",
    "plt.plot(losses)"
   ]
  },
  {
   "cell_type": "code",
   "execution_count": 30,
   "metadata": {
    "execution": {
     "iopub.execute_input": "2024-12-30T04:08:12.790400Z",
     "iopub.status.busy": "2024-12-30T04:08:12.790091Z",
     "iopub.status.idle": "2024-12-30T04:08:12.795553Z",
     "shell.execute_reply": "2024-12-30T04:08:12.794749Z",
     "shell.execute_reply.started": "2024-12-30T04:08:12.790375Z"
    },
    "trusted": true
   },
   "outputs": [],
   "source": [
    "# Codeblock 24\n",
    "def inference():\n",
    "\n",
    "    denoised_images = []  #(1)\n",
    "    \n",
    "    with torch.no_grad():  #(2)\n",
    "        current_prediction = torch.randn((64, NUM_CHANNELS, IMAGE_SIZE, IMAGE_SIZE)).to(DEVICE)  #(3)\n",
    "        \n",
    "        for i in tqdm(reversed(range(NUM_TIMESTEPS))):  #(4)\n",
    "            predicted_noise = model(current_prediction, torch.as_tensor(i).unsqueeze(0))  #(5)\n",
    "            current_prediction, denoised_image = noise_scheduler.backward_diffusion(current_prediction, predicted_noise, torch.as_tensor(i))  #(6)\n",
    "\n",
    "            if i%100 == 0:  #(7)\n",
    "                denoised_images.append(denoised_image)\n",
    "            \n",
    "        return denoised_images"
   ]
  },
  {
   "cell_type": "code",
   "execution_count": 31,
   "metadata": {
    "execution": {
     "iopub.execute_input": "2024-12-30T04:08:22.115958Z",
     "iopub.status.busy": "2024-12-30T04:08:22.115617Z",
     "iopub.status.idle": "2024-12-30T04:08:29.341886Z",
     "shell.execute_reply": "2024-12-30T04:08:29.341091Z",
     "shell.execute_reply.started": "2024-12-30T04:08:22.115933Z"
    },
    "trusted": true
   },
   "outputs": [
    {
     "name": "stderr",
     "output_type": "stream",
     "text": [
      "1000it [00:07, 138.53it/s]\n"
     ]
    }
   ],
   "source": [
    "# Codeblock 25\n",
    "denoised_images = inference()"
   ]
  },
  {
   "cell_type": "code",
   "execution_count": 32,
   "metadata": {
    "execution": {
     "iopub.execute_input": "2024-12-30T04:08:37.180752Z",
     "iopub.status.busy": "2024-12-30T04:08:37.180407Z",
     "iopub.status.idle": "2024-12-30T04:08:38.291986Z",
     "shell.execute_reply": "2024-12-30T04:08:38.291205Z",
     "shell.execute_reply.started": "2024-12-30T04:08:37.180714Z"
    },
    "trusted": true
   },
   "outputs": [
    {
     "data": {
      "image/png": "[encoded data removed]",
      "text/plain": [
       "<Figure size 1000x800 with 42 Axes>"
      ]
     },
     "metadata": {},
     "output_type": "display_data"
    }
   ],
   "source": [
    "# Codeblock 26\n",
    "fig, axes = plt.subplots(ncols=7, nrows=6, figsize=(10, 8))\n",
    "\n",
    "counter = 0\n",
    "\n",
    "for i in range(6):\n",
    "    for j in range(7):\n",
    "        axes[i,j].imshow(denoised_images[-1][counter].squeeze().detach().cpu().numpy(), cmap='gray')  #(1)\n",
    "        axes[i,j].get_xaxis().set_visible(False)\n",
    "        axes[i,j].get_yaxis().set_visible(False)\n",
    "        counter += 1\n",
    "\n",
    "plt.show()"
   ]
  },
  {
   "cell_type": "code",
   "execution_count": 33,
   "metadata": {
    "execution": {
     "iopub.execute_input": "2024-12-30T04:08:45.725418Z",
     "iopub.status.busy": "2024-12-30T04:08:45.725116Z",
     "iopub.status.idle": "2024-12-30T04:08:46.200172Z",
     "shell.execute_reply": "2024-12-30T04:08:46.198820Z",
     "shell.execute_reply.started": "2024-12-30T04:08:45.725394Z"
    },
    "trusted": true
   },
   "outputs": [
    {
     "data": {
      "image/png": "[encoded data removed]",
      "text/plain": [
       "<Figure size 2400x800 with 10 Axes>"
      ]
     },
     "metadata": {},
     "output_type": "display_data"
    }
   ],
   "source": [
    "# Codeblock 27\n",
    "fig, axes = plt.subplots(ncols=10, figsize=(24, 8))\n",
    "\n",
    "sample_no = 0\n",
    "timestep_no = 0\n",
    "\n",
    "for i in range(10):\n",
    "    axes[i].imshow(denoised_images[timestep_no][sample_no].squeeze().detach().cpu().numpy(), cmap='gray')\n",
    "    axes[i].get_xaxis().set_visible(False)\n",
    "    axes[i].get_yaxis().set_visible(False)\n",
    "    timestep_no += 1\n",
    "\n",
    "plt.show()"
   ]
  }
 ],
 "metadata": {
  "kaggle": {
   "accelerator": "gpu",
   "dataSources": [],
   "dockerImageVersionId": 30823,
   "isGpuEnabled": true,
   "isInternetEnabled": true,
   "language": "python",
   "sourceType": "notebook"
  },
  "kernelspec": {
   "display_name": "Python 3",
   "language": "python",
   "name": "python3"
  },
  "language_info": {
   "codemirror_mode": {
    "name": "ipython",
    "version": 3
   },
   "file_extension": ".py",
   "mimetype": "text/x-python",
   "name": "python",
   "nbconvert_exporter": "python",
   "pygments_lexer": "ipython3",
   "version": "3.10.12"
  }
 },
 "nbformat": 4,
 "nbformat_minor": 4
}

{
 "cells": [
  {
   "cell_type": "code",
   "execution_count": 1,
   "id": "63924af6",
   "metadata": {
    "_cell_guid": "b1076dfc-b9ad-4769-8c92-a6c4dae69d19",
    "_uuid": "8f2839f25d086af736a60e9eeb907d3b93b6e0e5",
    "execution": {
     "iopub.execute_input": "2023-05-09T13:32:22.544492Z",
     "iopub.status.busy": "2023-05-09T13:32:22.543679Z",
     "iopub.status.idle": "2023-05-09T13:32:26.555072Z",
     "shell.execute_reply": "2023-05-09T13:32:26.553921Z"
    },
    "papermill": {
     "duration": 4.019667,
     "end_time": "2023-05-09T13:32:26.557668",
     "exception": false,
     "start_time": "2023-05-09T13:32:22.538001",
     "status": "completed"
    },
    "tags": []
   },
   "outputs": [],
   "source": [
    "import torch\n",
    "import torch.nn as nn\n",
    "from torchinfo import summary"
   ]
  },
  {
   "cell_type": "code",
   "execution_count": 2,
   "id": "b7193896",
   "metadata": {
    "execution": {
     "iopub.execute_input": "2023-05-09T13:32:26.567866Z",
     "iopub.status.busy": "2023-05-09T13:32:26.567121Z",
     "iopub.status.idle": "2023-05-09T13:32:26.576353Z",
     "shell.execute_reply": "2023-05-09T13:32:26.575274Z"
    },
    "papermill": {
     "duration": 0.016472,
     "end_time": "2023-05-09T13:32:26.578603",
     "exception": false,
     "start_time": "2023-05-09T13:32:26.562131",
     "status": "completed"
    },
    "tags": []
   },
   "outputs": [],
   "source": [
    "class Residual_Block(nn.Module):\n",
    "    def __init__(self, num_channels):\n",
    "        super().__init__()\n",
    "\n",
    "        self.conv_residual1 = nn.Conv2d(in_channels=num_channels, out_channels=num_channels, \n",
    "                                        kernel_size=(3,3), stride=(1,1), padding=(1,1), bias=False)\n",
    "        self.bn_residual1 = nn.BatchNorm2d(num_features=num_channels)\n",
    "        self.conv_residual2 = nn.Conv2d(in_channels=num_channels, out_channels=num_channels, \n",
    "                                        kernel_size=(3,3), stride=(1,1), padding=(1,1), bias=False)\n",
    "        self.bn_residual2 = nn.BatchNorm2d(num_features=num_channels)\n",
    "        self.relu = nn.ReLU()\n",
    "        \n",
    "    def forward(self, x):\n",
    "\n",
    "        identity = x\n",
    "\n",
    "        x = self.conv_residual1(x)\n",
    "        x = self.bn_residual1(x)\n",
    "        x = self.relu(x)\n",
    "\n",
    "        x = self.conv_residual2(x)\n",
    "        x = self.bn_residual2(x)\n",
    "        x = self.relu(x)\n",
    "\n",
    "        x += identity\n",
    "        x = self.relu(x)\n",
    "\n",
    "        return x"
   ]
  },
  {
   "cell_type": "code",
   "execution_count": 3,
   "id": "6c024dd2",
   "metadata": {
    "execution": {
     "iopub.execute_input": "2023-05-09T13:32:26.587053Z",
     "iopub.status.busy": "2023-05-09T13:32:26.586671Z",
     "iopub.status.idle": "2023-05-09T13:32:27.303178Z",
     "shell.execute_reply": "2023-05-09T13:32:27.302435Z"
    },
    "papermill": {
     "duration": 0.723662,
     "end_time": "2023-05-09T13:32:27.305697",
     "exception": false,
     "start_time": "2023-05-09T13:32:26.582035",
     "status": "completed"
    },
    "tags": []
   },
   "outputs": [
    {
     "data": {
      "text/plain": [
       "torch.Size([16, 64, 100, 100])"
      ]
     },
     "execution_count": 3,
     "metadata": {},
     "output_type": "execute_result"
    }
   ],
   "source": [
    "residual_block_test = Residual_Block(num_channels=64)\n",
    "random_input = torch.randn(16, 64, 100, 100)\n",
    "output = residual_block_test(random_input)\n",
    "output.size()"
   ]
  },
  {
   "cell_type": "code",
   "execution_count": 4,
   "id": "4d20dee2",
   "metadata": {
    "execution": {
     "iopub.execute_input": "2023-05-09T13:32:27.316099Z",
     "iopub.status.busy": "2023-05-09T13:32:27.315436Z",
     "iopub.status.idle": "2023-05-09T13:32:27.868702Z",
     "shell.execute_reply": "2023-05-09T13:32:27.867429Z"
    },
    "papermill": {
     "duration": 0.561316,
     "end_time": "2023-05-09T13:32:27.871090",
     "exception": false,
     "start_time": "2023-05-09T13:32:27.309774",
     "status": "completed"
    },
    "tags": []
   },
   "outputs": [
    {
     "name": "stderr",
     "output_type": "stream",
     "text": [
      "/opt/conda/lib/python3.10/site-packages/torchinfo/torchinfo.py:477: UserWarning: TypedStorage is deprecated. It will be removed in the future and UntypedStorage will be the only storage class. This should only matter to you if you are using storages directly.  To access UntypedStorage directly, use tensor.untyped_storage() instead of tensor.storage()\n",
      "  action_fn=lambda data: sys.getsizeof(data.storage()),\n",
      "/opt/conda/lib/python3.10/site-packages/torch/storage.py:665: UserWarning: TypedStorage is deprecated. It will be removed in the future and UntypedStorage will be the only storage class. This should only matter to you if you are using storages directly.  To access UntypedStorage directly, use tensor.untyped_storage() instead of tensor.storage()\n",
      "  return super().__sizeof__() + self.nbytes()\n"
     ]
    },
    {
     "data": {
      "text/plain": [
       "==========================================================================================\n",
       "Layer (type:depth-idx)                   Output Shape              Param #\n",
       "==========================================================================================\n",
       "Residual_Block                           [16, 64, 100, 100]        --\n",
       "├─Conv2d: 1-1                            [16, 64, 100, 100]        36,864\n",
       "├─BatchNorm2d: 1-2                       [16, 64, 100, 100]        128\n",
       "├─ReLU: 1-3                              [16, 64, 100, 100]        --\n",
       "├─Conv2d: 1-4                            [16, 64, 100, 100]        36,864\n",
       "├─BatchNorm2d: 1-5                       [16, 64, 100, 100]        128\n",
       "├─ReLU: 1-6                              [16, 64, 100, 100]        --\n",
       "├─ReLU: 1-7                              [16, 64, 100, 100]        --\n",
       "==========================================================================================\n",
       "Total params: 73,984\n",
       "Trainable params: 73,984\n",
       "Non-trainable params: 0\n",
       "Total mult-adds (G): 11.80\n",
       "==========================================================================================\n",
       "Input size (MB): 40.96\n",
       "Forward/backward pass size (MB): 327.68\n",
       "Params size (MB): 0.30\n",
       "Estimated Total Size (MB): 368.94\n",
       "=========================================================================================="
      ]
     },
     "execution_count": 4,
     "metadata": {},
     "output_type": "execute_result"
    }
   ],
   "source": [
    "summary(residual_block_test, input_size=(16, 64, 100, 100))"
   ]
  },
  {
   "cell_type": "code",
   "execution_count": 5,
   "id": "c54316ba",
   "metadata": {
    "execution": {
     "iopub.execute_input": "2023-05-09T13:32:27.880922Z",
     "iopub.status.busy": "2023-05-09T13:32:27.880494Z",
     "iopub.status.idle": "2023-05-09T13:32:27.890570Z",
     "shell.execute_reply": "2023-05-09T13:32:27.889278Z"
    },
    "papermill": {
     "duration": 0.017864,
     "end_time": "2023-05-09T13:32:27.893036",
     "exception": false,
     "start_time": "2023-05-09T13:32:27.875172",
     "status": "completed"
    },
    "tags": []
   },
   "outputs": [],
   "source": [
    "class Residual_Block_Trans(nn.Module):\n",
    "    def __init__(self, in_channels, out_channels):\n",
    "        super().__init__()\n",
    "        self.conv_identity_adapt = nn.Conv2d(in_channels=in_channels, out_channels=out_channels, \n",
    "                                             kernel_size=(1,1), stride=(2,2), padding=(0,0), bias=False)\n",
    "        self.bn_identity_adapt = nn.BatchNorm2d(num_features=out_channels)\n",
    "        \n",
    "        self.conv_transition1 = nn.Conv2d(in_channels=in_channels, out_channels=out_channels, \n",
    "                                          kernel_size=(3,3), stride=(2,2), padding=(1,1), bias=False)\n",
    "        self.bn_transition1 = nn.BatchNorm2d(num_features=out_channels)\n",
    "        \n",
    "        self.conv_transition2 = nn.Conv2d(in_channels=out_channels, out_channels=out_channels, \n",
    "                                          kernel_size=(3,3), stride=(1,1), padding=(1,1), bias=False)\n",
    "        self.bn_transition2 = nn.BatchNorm2d(num_features=out_channels)\n",
    "        \n",
    "        self.relu = nn.ReLU()\n",
    "        \n",
    "    def forward(self, x):\n",
    "        identity = self.bn_identity_adapt(self.conv_identity_adapt(x))\n",
    "        x = self.relu(self.bn_transition1(self.conv_transition1(x)))\n",
    "        x = self.relu(self.bn_transition2(self.conv_transition2(x)))\n",
    "        x += identity\n",
    "        x = self.relu(x)\n",
    "        return x"
   ]
  },
  {
   "cell_type": "code",
   "execution_count": 6,
   "id": "cbddf413",
   "metadata": {
    "execution": {
     "iopub.execute_input": "2023-05-09T13:32:27.903069Z",
     "iopub.status.busy": "2023-05-09T13:32:27.902324Z",
     "iopub.status.idle": "2023-05-09T13:32:29.101250Z",
     "shell.execute_reply": "2023-05-09T13:32:29.100083Z"
    },
    "papermill": {
     "duration": 1.206633,
     "end_time": "2023-05-09T13:32:29.103664",
     "exception": false,
     "start_time": "2023-05-09T13:32:27.897031",
     "status": "completed"
    },
    "tags": []
   },
   "outputs": [
    {
     "data": {
      "text/plain": [
       "torch.Size([16, 256, 50, 50])"
      ]
     },
     "execution_count": 6,
     "metadata": {},
     "output_type": "execute_result"
    }
   ],
   "source": [
    "block_transition_test = Residual_Block_Trans(in_channels=128, out_channels=256)\n",
    "random_input = torch.randn(16, 128, 100, 100)\n",
    "output = block_transition_test(random_input)\n",
    "output.size()"
   ]
  },
  {
   "cell_type": "code",
   "execution_count": 7,
   "id": "61cc8105",
   "metadata": {
    "execution": {
     "iopub.execute_input": "2023-05-09T13:32:29.113185Z",
     "iopub.status.busy": "2023-05-09T13:32:29.112824Z",
     "iopub.status.idle": "2023-05-09T13:32:30.608740Z",
     "shell.execute_reply": "2023-05-09T13:32:30.607619Z"
    },
    "papermill": {
     "duration": 1.50412,
     "end_time": "2023-05-09T13:32:30.611774",
     "exception": false,
     "start_time": "2023-05-09T13:32:29.107654",
     "status": "completed"
    },
    "tags": []
   },
   "outputs": [
    {
     "data": {
      "text/plain": [
       "==========================================================================================\n",
       "Layer (type:depth-idx)                   Output Shape              Param #\n",
       "==========================================================================================\n",
       "Residual_Block_Trans                     [16, 256, 50, 50]         --\n",
       "├─Conv2d: 1-1                            [16, 256, 50, 50]         32,768\n",
       "├─BatchNorm2d: 1-2                       [16, 256, 50, 50]         512\n",
       "├─Conv2d: 1-3                            [16, 256, 50, 50]         294,912\n",
       "├─BatchNorm2d: 1-4                       [16, 256, 50, 50]         512\n",
       "├─ReLU: 1-5                              [16, 256, 50, 50]         --\n",
       "├─Conv2d: 1-6                            [16, 256, 50, 50]         589,824\n",
       "├─BatchNorm2d: 1-7                       [16, 256, 50, 50]         512\n",
       "├─ReLU: 1-8                              [16, 256, 50, 50]         --\n",
       "├─ReLU: 1-9                              [16, 256, 50, 50]         --\n",
       "==========================================================================================\n",
       "Total params: 919,040\n",
       "Trainable params: 919,040\n",
       "Non-trainable params: 0\n",
       "Total mult-adds (G): 36.70\n",
       "==========================================================================================\n",
       "Input size (MB): 81.92\n",
       "Forward/backward pass size (MB): 491.52\n",
       "Params size (MB): 3.68\n",
       "Estimated Total Size (MB): 577.12\n",
       "=========================================================================================="
      ]
     },
     "execution_count": 7,
     "metadata": {},
     "output_type": "execute_result"
    }
   ],
   "source": [
    "summary(block_transition_test, input_size=(16, 128, 100, 100))"
   ]
  },
  {
   "cell_type": "code",
   "execution_count": 8,
   "id": "7d7dea62",
   "metadata": {
    "execution": {
     "iopub.execute_input": "2023-05-09T13:32:30.622118Z",
     "iopub.status.busy": "2023-05-09T13:32:30.621660Z",
     "iopub.status.idle": "2023-05-09T13:32:30.640549Z",
     "shell.execute_reply": "2023-05-09T13:32:30.639372Z"
    },
    "papermill": {
     "duration": 0.027291,
     "end_time": "2023-05-09T13:32:30.643201",
     "exception": false,
     "start_time": "2023-05-09T13:32:30.615910",
     "status": "completed"
    },
    "tags": []
   },
   "outputs": [],
   "source": [
    "class ResNet(nn.Module):\n",
    "    def __init__(self, num_repeats):\n",
    "        super().__init__()\n",
    "        self.conv1 = nn.Conv2d(in_channels=3, out_channels=64, \n",
    "                               kernel_size=(7,7), stride=(2,2), padding=(3,3), bias=False)\n",
    "        self.bn1 = nn.BatchNorm2d(num_features=64)\n",
    "        self.relu = nn.ReLU()\n",
    "        self.maxpool2 = nn.MaxPool2d(kernel_size=(3,3), stride=(2,2), padding=(1,1))\n",
    "        \n",
    "        self.residual_blocks_conv2_x = nn.ModuleList()\n",
    "        for _ in range(num_repeats[0]):\n",
    "            self.residual_blocks_conv2_x.append(Residual_Block(num_channels=64))\n",
    "            \n",
    "        self.residual_block_trans3 = Residual_Block_Trans(in_channels=64, \n",
    "                                                          out_channels=128)\n",
    "        \n",
    "        self.residual_blocks_conv3_x = nn.ModuleList()\n",
    "        for _ in range(num_repeats[1]-1):\n",
    "            self.residual_blocks_conv3_x.append(Residual_Block(num_channels=128))\n",
    "        \n",
    "        self.residual_block_trans4 = Residual_Block_Trans(in_channels=128, \n",
    "                                                          out_channels=256)\n",
    "        \n",
    "        self.residual_blocks_conv4_x = nn.ModuleList()\n",
    "        for _ in range(num_repeats[2]-1):\n",
    "            self.residual_blocks_conv4_x.append(Residual_Block(num_channels=256))\n",
    "            \n",
    "        self.residual_block_trans5 = Residual_Block_Trans(in_channels=256, \n",
    "                                                          out_channels=512)\n",
    "        \n",
    "        self.residual_blocks_conv5_x = nn.ModuleList()\n",
    "        for _ in range(num_repeats[3]-1):\n",
    "            self.residual_blocks_conv5_x.append(Residual_Block(num_channels=512))\n",
    "            \n",
    "        self.avgpool = nn.AdaptiveAvgPool2d(output_size=(1,1))\n",
    "        self.fc = nn.Linear(in_features=512, out_features=1000)\n",
    "        \n",
    "    def forward(self, x):\n",
    "        \n",
    "        # conv1\n",
    "        x = self.conv1(x)\n",
    "        x = self.bn1(x)\n",
    "        x = self.relu(x)\n",
    "        x = self.maxpool2(x)\n",
    "        \n",
    "        # conv2_x\n",
    "        for layer in self.residual_blocks_conv2_x:\n",
    "            x = layer(x)\n",
    "            \n",
    "        # conv3_x\n",
    "        x = self.residual_block_trans3(x)\n",
    "        for layer in self.residual_blocks_conv3_x:\n",
    "            x = layer(x)\n",
    "                                         \n",
    "        # conv4_x\n",
    "        x = self.residual_block_trans4(x)\n",
    "        for layer in self.residual_blocks_conv4_x:\n",
    "            x = layer(x)\n",
    "            \n",
    "        # conv5_x\n",
    "        x = self.residual_block_trans5(x)\n",
    "        for layer in self.residual_blocks_conv5_x:\n",
    "            x = layer(x)\n",
    "        \n",
    "        # output\n",
    "        x = self.avgpool(x)\n",
    "        x = x.reshape(x.shape[0], -1)\n",
    "        x = self.fc(x)\n",
    "                                                \n",
    "        return x"
   ]
  },
  {
   "cell_type": "code",
   "execution_count": 9,
   "id": "6a8130f1",
   "metadata": {
    "execution": {
     "iopub.execute_input": "2023-05-09T13:32:30.653752Z",
     "iopub.status.busy": "2023-05-09T13:32:30.653273Z",
     "iopub.status.idle": "2023-05-09T13:32:32.595021Z",
     "shell.execute_reply": "2023-05-09T13:32:32.593719Z"
    },
    "papermill": {
     "duration": 1.950076,
     "end_time": "2023-05-09T13:32:32.597525",
     "exception": false,
     "start_time": "2023-05-09T13:32:30.647449",
     "status": "completed"
    },
    "tags": []
   },
   "outputs": [
    {
     "data": {
      "text/plain": [
       "torch.Size([16, 1000])"
      ]
     },
     "execution_count": 9,
     "metadata": {},
     "output_type": "execute_result"
    }
   ],
   "source": [
    "resnet_test = ResNet(num_repeats=[3,4,6,3])\n",
    "random_input = torch.randn(16, 3, 224, 224)\n",
    "output = resnet_test(random_input)\n",
    "output.size()"
   ]
  },
  {
   "cell_type": "code",
   "execution_count": 10,
   "id": "b830c444",
   "metadata": {
    "execution": {
     "iopub.execute_input": "2023-05-09T13:32:32.607229Z",
     "iopub.status.busy": "2023-05-09T13:32:32.606828Z",
     "iopub.status.idle": "2023-05-09T13:32:32.957937Z",
     "shell.execute_reply": "2023-05-09T13:32:32.956912Z"
    },
    "papermill": {
     "duration": 0.358726,
     "end_time": "2023-05-09T13:32:32.960383",
     "exception": false,
     "start_time": "2023-05-09T13:32:32.601657",
     "status": "completed"
    },
    "tags": []
   },
   "outputs": [
    {
     "data": {
      "text/plain": [
       "==========================================================================================\n",
       "Layer (type:depth-idx)                   Output Shape              Param #\n",
       "==========================================================================================\n",
       "ResNet                                   [4, 1000]                 --\n",
       "├─Conv2d: 1-1                            [4, 64, 112, 112]         9,408\n",
       "├─BatchNorm2d: 1-2                       [4, 64, 112, 112]         128\n",
       "├─ReLU: 1-3                              [4, 64, 112, 112]         --\n",
       "├─MaxPool2d: 1-4                         [4, 64, 56, 56]           --\n",
       "├─ModuleList: 1-5                        --                        --\n",
       "│    └─Residual_Block: 2-1               [4, 64, 56, 56]           --\n",
       "│    │    └─Conv2d: 3-1                  [4, 64, 56, 56]           36,864\n",
       "│    │    └─BatchNorm2d: 3-2             [4, 64, 56, 56]           128\n",
       "│    │    └─ReLU: 3-3                    [4, 64, 56, 56]           --\n",
       "│    │    └─Conv2d: 3-4                  [4, 64, 56, 56]           36,864\n",
       "│    │    └─BatchNorm2d: 3-5             [4, 64, 56, 56]           128\n",
       "│    │    └─ReLU: 3-6                    [4, 64, 56, 56]           --\n",
       "│    │    └─ReLU: 3-7                    [4, 64, 56, 56]           --\n",
       "│    └─Residual_Block: 2-2               [4, 64, 56, 56]           --\n",
       "│    │    └─Conv2d: 3-8                  [4, 64, 56, 56]           36,864\n",
       "│    │    └─BatchNorm2d: 3-9             [4, 64, 56, 56]           128\n",
       "│    │    └─ReLU: 3-10                   [4, 64, 56, 56]           --\n",
       "│    │    └─Conv2d: 3-11                 [4, 64, 56, 56]           36,864\n",
       "│    │    └─BatchNorm2d: 3-12            [4, 64, 56, 56]           128\n",
       "│    │    └─ReLU: 3-13                   [4, 64, 56, 56]           --\n",
       "│    │    └─ReLU: 3-14                   [4, 64, 56, 56]           --\n",
       "│    └─Residual_Block: 2-3               [4, 64, 56, 56]           --\n",
       "│    │    └─Conv2d: 3-15                 [4, 64, 56, 56]           36,864\n",
       "│    │    └─BatchNorm2d: 3-16            [4, 64, 56, 56]           128\n",
       "│    │    └─ReLU: 3-17                   [4, 64, 56, 56]           --\n",
       "│    │    └─Conv2d: 3-18                 [4, 64, 56, 56]           36,864\n",
       "│    │    └─BatchNorm2d: 3-19            [4, 64, 56, 56]           128\n",
       "│    │    └─ReLU: 3-20                   [4, 64, 56, 56]           --\n",
       "│    │    └─ReLU: 3-21                   [4, 64, 56, 56]           --\n",
       "├─Residual_Block_Trans: 1-6              [4, 128, 28, 28]          --\n",
       "│    └─Conv2d: 2-4                       [4, 128, 28, 28]          8,192\n",
       "│    └─BatchNorm2d: 2-5                  [4, 128, 28, 28]          256\n",
       "│    └─Conv2d: 2-6                       [4, 128, 28, 28]          73,728\n",
       "│    └─BatchNorm2d: 2-7                  [4, 128, 28, 28]          256\n",
       "│    └─ReLU: 2-8                         [4, 128, 28, 28]          --\n",
       "│    └─Conv2d: 2-9                       [4, 128, 28, 28]          147,456\n",
       "│    └─BatchNorm2d: 2-10                 [4, 128, 28, 28]          256\n",
       "│    └─ReLU: 2-11                        [4, 128, 28, 28]          --\n",
       "│    └─ReLU: 2-12                        [4, 128, 28, 28]          --\n",
       "├─ModuleList: 1-7                        --                        --\n",
       "│    └─Residual_Block: 2-13              [4, 128, 28, 28]          --\n",
       "│    │    └─Conv2d: 3-22                 [4, 128, 28, 28]          147,456\n",
       "│    │    └─BatchNorm2d: 3-23            [4, 128, 28, 28]          256\n",
       "│    │    └─ReLU: 3-24                   [4, 128, 28, 28]          --\n",
       "│    │    └─Conv2d: 3-25                 [4, 128, 28, 28]          147,456\n",
       "│    │    └─BatchNorm2d: 3-26            [4, 128, 28, 28]          256\n",
       "│    │    └─ReLU: 3-27                   [4, 128, 28, 28]          --\n",
       "│    │    └─ReLU: 3-28                   [4, 128, 28, 28]          --\n",
       "│    └─Residual_Block: 2-14              [4, 128, 28, 28]          --\n",
       "│    │    └─Conv2d: 3-29                 [4, 128, 28, 28]          147,456\n",
       "│    │    └─BatchNorm2d: 3-30            [4, 128, 28, 28]          256\n",
       "│    │    └─ReLU: 3-31                   [4, 128, 28, 28]          --\n",
       "│    │    └─Conv2d: 3-32                 [4, 128, 28, 28]          147,456\n",
       "│    │    └─BatchNorm2d: 3-33            [4, 128, 28, 28]          256\n",
       "│    │    └─ReLU: 3-34                   [4, 128, 28, 28]          --\n",
       "│    │    └─ReLU: 3-35                   [4, 128, 28, 28]          --\n",
       "│    └─Residual_Block: 2-15              [4, 128, 28, 28]          --\n",
       "│    │    └─Conv2d: 3-36                 [4, 128, 28, 28]          147,456\n",
       "│    │    └─BatchNorm2d: 3-37            [4, 128, 28, 28]          256\n",
       "│    │    └─ReLU: 3-38                   [4, 128, 28, 28]          --\n",
       "│    │    └─Conv2d: 3-39                 [4, 128, 28, 28]          147,456\n",
       "│    │    └─BatchNorm2d: 3-40            [4, 128, 28, 28]          256\n",
       "│    │    └─ReLU: 3-41                   [4, 128, 28, 28]          --\n",
       "│    │    └─ReLU: 3-42                   [4, 128, 28, 28]          --\n",
       "├─Residual_Block_Trans: 1-8              [4, 256, 14, 14]          --\n",
       "│    └─Conv2d: 2-16                      [4, 256, 14, 14]          32,768\n",
       "│    └─BatchNorm2d: 2-17                 [4, 256, 14, 14]          512\n",
       "│    └─Conv2d: 2-18                      [4, 256, 14, 14]          294,912\n",
       "│    └─BatchNorm2d: 2-19                 [4, 256, 14, 14]          512\n",
       "│    └─ReLU: 2-20                        [4, 256, 14, 14]          --\n",
       "│    └─Conv2d: 2-21                      [4, 256, 14, 14]          589,824\n",
       "│    └─BatchNorm2d: 2-22                 [4, 256, 14, 14]          512\n",
       "│    └─ReLU: 2-23                        [4, 256, 14, 14]          --\n",
       "│    └─ReLU: 2-24                        [4, 256, 14, 14]          --\n",
       "├─ModuleList: 1-9                        --                        --\n",
       "│    └─Residual_Block: 2-25              [4, 256, 14, 14]          --\n",
       "│    │    └─Conv2d: 3-43                 [4, 256, 14, 14]          589,824\n",
       "│    │    └─BatchNorm2d: 3-44            [4, 256, 14, 14]          512\n",
       "│    │    └─ReLU: 3-45                   [4, 256, 14, 14]          --\n",
       "│    │    └─Conv2d: 3-46                 [4, 256, 14, 14]          589,824\n",
       "│    │    └─BatchNorm2d: 3-47            [4, 256, 14, 14]          512\n",
       "│    │    └─ReLU: 3-48                   [4, 256, 14, 14]          --\n",
       "│    │    └─ReLU: 3-49                   [4, 256, 14, 14]          --\n",
       "│    └─Residual_Block: 2-26              [4, 256, 14, 14]          --\n",
       "│    │    └─Conv2d: 3-50                 [4, 256, 14, 14]          589,824\n",
       "│    │    └─BatchNorm2d: 3-51            [4, 256, 14, 14]          512\n",
       "│    │    └─ReLU: 3-52                   [4, 256, 14, 14]          --\n",
       "│    │    └─Conv2d: 3-53                 [4, 256, 14, 14]          589,824\n",
       "│    │    └─BatchNorm2d: 3-54            [4, 256, 14, 14]          512\n",
       "│    │    └─ReLU: 3-55                   [4, 256, 14, 14]          --\n",
       "│    │    └─ReLU: 3-56                   [4, 256, 14, 14]          --\n",
       "│    └─Residual_Block: 2-27              [4, 256, 14, 14]          --\n",
       "│    │    └─Conv2d: 3-57                 [4, 256, 14, 14]          589,824\n",
       "│    │    └─BatchNorm2d: 3-58            [4, 256, 14, 14]          512\n",
       "│    │    └─ReLU: 3-59                   [4, 256, 14, 14]          --\n",
       "│    │    └─Conv2d: 3-60                 [4, 256, 14, 14]          589,824\n",
       "│    │    └─BatchNorm2d: 3-61            [4, 256, 14, 14]          512\n",
       "│    │    └─ReLU: 3-62                   [4, 256, 14, 14]          --\n",
       "│    │    └─ReLU: 3-63                   [4, 256, 14, 14]          --\n",
       "│    └─Residual_Block: 2-28              [4, 256, 14, 14]          --\n",
       "│    │    └─Conv2d: 3-64                 [4, 256, 14, 14]          589,824\n",
       "│    │    └─BatchNorm2d: 3-65            [4, 256, 14, 14]          512\n",
       "│    │    └─ReLU: 3-66                   [4, 256, 14, 14]          --\n",
       "│    │    └─Conv2d: 3-67                 [4, 256, 14, 14]          589,824\n",
       "│    │    └─BatchNorm2d: 3-68            [4, 256, 14, 14]          512\n",
       "│    │    └─ReLU: 3-69                   [4, 256, 14, 14]          --\n",
       "│    │    └─ReLU: 3-70                   [4, 256, 14, 14]          --\n",
       "│    └─Residual_Block: 2-29              [4, 256, 14, 14]          --\n",
       "│    │    └─Conv2d: 3-71                 [4, 256, 14, 14]          589,824\n",
       "│    │    └─BatchNorm2d: 3-72            [4, 256, 14, 14]          512\n",
       "│    │    └─ReLU: 3-73                   [4, 256, 14, 14]          --\n",
       "│    │    └─Conv2d: 3-74                 [4, 256, 14, 14]          589,824\n",
       "│    │    └─BatchNorm2d: 3-75            [4, 256, 14, 14]          512\n",
       "│    │    └─ReLU: 3-76                   [4, 256, 14, 14]          --\n",
       "│    │    └─ReLU: 3-77                   [4, 256, 14, 14]          --\n",
       "├─Residual_Block_Trans: 1-10             [4, 512, 7, 7]            --\n",
       "│    └─Conv2d: 2-30                      [4, 512, 7, 7]            131,072\n",
       "│    └─BatchNorm2d: 2-31                 [4, 512, 7, 7]            1,024\n",
       "│    └─Conv2d: 2-32                      [4, 512, 7, 7]            1,179,648\n",
       "│    └─BatchNorm2d: 2-33                 [4, 512, 7, 7]            1,024\n",
       "│    └─ReLU: 2-34                        [4, 512, 7, 7]            --\n",
       "│    └─Conv2d: 2-35                      [4, 512, 7, 7]            2,359,296\n",
       "│    └─BatchNorm2d: 2-36                 [4, 512, 7, 7]            1,024\n",
       "│    └─ReLU: 2-37                        [4, 512, 7, 7]            --\n",
       "│    └─ReLU: 2-38                        [4, 512, 7, 7]            --\n",
       "├─ModuleList: 1-11                       --                        --\n",
       "│    └─Residual_Block: 2-39              [4, 512, 7, 7]            --\n",
       "│    │    └─Conv2d: 3-78                 [4, 512, 7, 7]            2,359,296\n",
       "│    │    └─BatchNorm2d: 3-79            [4, 512, 7, 7]            1,024\n",
       "│    │    └─ReLU: 3-80                   [4, 512, 7, 7]            --\n",
       "│    │    └─Conv2d: 3-81                 [4, 512, 7, 7]            2,359,296\n",
       "│    │    └─BatchNorm2d: 3-82            [4, 512, 7, 7]            1,024\n",
       "│    │    └─ReLU: 3-83                   [4, 512, 7, 7]            --\n",
       "│    │    └─ReLU: 3-84                   [4, 512, 7, 7]            --\n",
       "│    └─Residual_Block: 2-40              [4, 512, 7, 7]            --\n",
       "│    │    └─Conv2d: 3-85                 [4, 512, 7, 7]            2,359,296\n",
       "│    │    └─BatchNorm2d: 3-86            [4, 512, 7, 7]            1,024\n",
       "│    │    └─ReLU: 3-87                   [4, 512, 7, 7]            --\n",
       "│    │    └─Conv2d: 3-88                 [4, 512, 7, 7]            2,359,296\n",
       "│    │    └─BatchNorm2d: 3-89            [4, 512, 7, 7]            1,024\n",
       "│    │    └─ReLU: 3-90                   [4, 512, 7, 7]            --\n",
       "│    │    └─ReLU: 3-91                   [4, 512, 7, 7]            --\n",
       "├─AdaptiveAvgPool2d: 1-12                [4, 512, 1, 1]            --\n",
       "├─Linear: 1-13                           [4, 1000]                 513,000\n",
       "==========================================================================================\n",
       "Total params: 21,797,672\n",
       "Trainable params: 21,797,672\n",
       "Non-trainable params: 0\n",
       "Total mult-adds (G): 14.66\n",
       "==========================================================================================\n",
       "Input size (MB): 2.41\n",
       "Forward/backward pass size (MB): 239.27\n",
       "Params size (MB): 87.19\n",
       "Estimated Total Size (MB): 328.87\n",
       "=========================================================================================="
      ]
     },
     "execution_count": 10,
     "metadata": {},
     "output_type": "execute_result"
    }
   ],
   "source": [
    "summary(resnet_test, input_size=(4, 3, 224, 224))"
   ]
  },
  {
   "cell_type": "code",
   "execution_count": null,
   "id": "3e70a6fb",
   "metadata": {
    "papermill": {
     "duration": 0.004831,
     "end_time": "2023-05-09T13:32:32.969886",
     "exception": false,
     "start_time": "2023-05-09T13:32:32.965055",
     "status": "completed"
    },
    "tags": []
   },
   "outputs": [],
   "source": []
  }
 ],
 "metadata": {
  "kernelspec": {
   "display_name": "Python 3",
   "language": "python",
   "name": "python3"
  },
  "language_info": {
   "codemirror_mode": {
    "name": "ipython",
    "version": 3
   },
   "file_extension": ".py",
   "mimetype": "text/x-python",
   "name": "python",
   "nbconvert_exporter": "python",
   "pygments_lexer": "ipython3",
   "version": "3.10.10"
  },
  "papermill": {
   "default_parameters": {},
   "duration": 23.618233,
   "end_time": "2023-05-09T13:32:35.230435",
   "environment_variables": {},
   "exception": null,
   "input_path": "__notebook__.ipynb",
   "output_path": "__notebook__.ipynb",
   "parameters": {},
   "start_time": "2023-05-09T13:32:11.612202",
   "version": "2.4.0"
  }
 },
 "nbformat": 4,
 "nbformat_minor": 5
}

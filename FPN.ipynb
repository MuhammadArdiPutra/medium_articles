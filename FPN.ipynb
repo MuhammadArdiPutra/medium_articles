{
 "cells": [
  {
   "cell_type": "code",
   "execution_count": 1,
   "id": "067eade0",
   "metadata": {},
   "outputs": [],
   "source": [
    "# Codeblock 1\n",
    "import torch\n",
    "import torch.nn as nn"
   ]
  },
  {
   "cell_type": "code",
   "execution_count": 5,
   "id": "be6cfb4f",
   "metadata": {},
   "outputs": [],
   "source": [
    "# Codeblock 2\n",
    "class CNN(nn.Module):\n",
    "    def __init__(self):\n",
    "        super().__init__()\n",
    "        \n",
    "        self.relu = nn.ReLU()\n",
    "        self.maxpool = nn.MaxPool2d(kernel_size=3, stride=2, padding=1)\n",
    "        \n",
    "        self.conv1 = nn.Conv2d(in_channels=3, out_channels=64, kernel_size=3, padding=1)\n",
    "        self.conv2 = nn.Conv2d(in_channels=64, out_channels=256, kernel_size=3, padding=1)\n",
    "        self.conv3 = nn.Conv2d(in_channels=256, out_channels=512, kernel_size=3, padding=1)\n",
    "        self.conv4 = nn.Conv2d(in_channels=512, out_channels=1024, kernel_size=3, padding=1)\n",
    "        self.conv5 = nn.Conv2d(in_channels=1024, out_channels=2048, kernel_size=3, padding=1)\n",
    "        \n",
    "    def forward(self, x):\n",
    "        #print(f'original\\t: {x.size()}\\n')\n",
    "        \n",
    "        x = self.relu(self.conv1(x))\n",
    "        #print(f'after conv1\\t: {x.size()}')\n",
    "        \n",
    "        x = self.maxpool(x)\n",
    "        #print(f'after maxpool\\t: {x.size()}\\n')\n",
    "        \n",
    "        x = self.relu(self.conv2(x))\n",
    "        #print(f'after conv2\\t: {x.size()}')\n",
    "        \n",
    "        x = self.maxpool(x)\n",
    "        #print(f'after maxpool\\t: {x.size()}\\n')\n",
    "        \n",
    "        c2 = x.clone()             #(1)\n",
    "        \n",
    "        x = self.relu(self.conv3(x))\n",
    "        #print(f'after conv3\\t: {x.size()}')\n",
    "        \n",
    "        x = self.maxpool(x)\n",
    "        #print(f'after maxpool\\t: {x.size()}\\n')\n",
    "        \n",
    "        c3 = x.clone()             #(2)\n",
    "        \n",
    "        x = self.relu(self.conv4(x))\n",
    "        #print(f'after conv4\\t: {x.size()}')\n",
    "        \n",
    "        x = self.maxpool(x)\n",
    "        #print(f'after maxpool\\t: {x.size()}\\n')\n",
    "        \n",
    "        c4 = x.clone()             #(3)\n",
    "        \n",
    "        x = self.relu(self.conv5(x))\n",
    "        #print(f'after conv5\\t: {x.size()}')\n",
    "        \n",
    "        c5 = self.maxpool(x)\n",
    "        #print(f'after maxpool\\t: {c5.size()}\\n')\n",
    "        \n",
    "        return c2, c3, c4, c5      #(4)"
   ]
  },
  {
   "cell_type": "code",
   "execution_count": 3,
   "id": "03903ace",
   "metadata": {},
   "outputs": [
    {
     "name": "stdout",
     "output_type": "stream",
     "text": [
      "original\t: torch.Size([1, 3, 224, 224])\n",
      "\n",
      "after conv1\t: torch.Size([1, 64, 224, 224])\n",
      "after maxpool\t: torch.Size([1, 64, 112, 112])\n",
      "\n",
      "after conv2\t: torch.Size([1, 256, 112, 112])\n",
      "after maxpool\t: torch.Size([1, 256, 56, 56])\n",
      "\n",
      "after conv3\t: torch.Size([1, 512, 56, 56])\n",
      "after maxpool\t: torch.Size([1, 512, 28, 28])\n",
      "\n",
      "after conv4\t: torch.Size([1, 1024, 28, 28])\n",
      "after maxpool\t: torch.Size([1, 1024, 14, 14])\n",
      "\n",
      "after conv5\t: torch.Size([1, 2048, 14, 14])\n",
      "after maxpool\t: torch.Size([1, 2048, 7, 7])\n",
      "\n"
     ]
    }
   ],
   "source": [
    "# Codeblock 3\n",
    "cnn = CNN()\n",
    "\n",
    "x = torch.randn(1, 3, 224, 224)\n",
    "out_cnn = cnn(x)"
   ]
  },
  {
   "cell_type": "code",
   "execution_count": 4,
   "id": "6c8ea8f0",
   "metadata": {},
   "outputs": [
    {
     "name": "stdout",
     "output_type": "stream",
     "text": [
      "torch.Size([1, 256, 56, 56])\n",
      "torch.Size([1, 512, 28, 28])\n",
      "torch.Size([1, 1024, 14, 14])\n",
      "torch.Size([1, 2048, 7, 7])\n"
     ]
    }
   ],
   "source": [
    "# Codeblock 4\n",
    "c2, c3, c4, c5 = out_cnn\n",
    "\n",
    "print(c2.shape)\n",
    "print(c3.shape)\n",
    "print(c4.shape)\n",
    "print(c5.shape)"
   ]
  },
  {
   "cell_type": "code",
   "execution_count": 6,
   "id": "89392d6b",
   "metadata": {},
   "outputs": [],
   "source": [
    "# Codeblock 5\n",
    "class FPN(nn.Module):\n",
    "    def __init__(self):\n",
    "        super().__init__()\n",
    "        \n",
    "        self.upsample = nn.Upsample(scale_factor=2, mode='nearest')    #(1)\n",
    "        \n",
    "        self.lateral_c5 = nn.Conv2d(in_channels=2048, out_channels=256, kernel_size=1)\n",
    "        self.lateral_c4 = nn.Conv2d(in_channels=1024, out_channels=256, kernel_size=1)\n",
    "        self.lateral_c3 = nn.Conv2d(in_channels=512,  out_channels=256, kernel_size=1)\n",
    "        self.lateral_c2 = nn.Conv2d(in_channels=256,  out_channels=256, kernel_size=1)\n",
    "        \n",
    "        self.smooth_m4  = nn.Conv2d(in_channels=256, out_channels=256, kernel_size=3, padding=1)\n",
    "        self.smooth_m3  = nn.Conv2d(in_channels=256, out_channels=256, kernel_size=3, padding=1)\n",
    "        self.smooth_m2  = nn.Conv2d(in_channels=256, out_channels=256, kernel_size=3, padding=1)\n",
    "        \n",
    "    def forward(self, c2, c3, c4, c5):\n",
    "        m5 = self.lateral_c5(c5)\n",
    "        p5 = m5\n",
    "        \n",
    "        m4 = self.upsample(m5) + self.lateral_c4(c4)\n",
    "        p4 = self.smooth_m4(m4)\n",
    "        \n",
    "        m3 = self.upsample(m4) + self.lateral_c3(c3)\n",
    "        p3 = self.smooth_m3(m3)\n",
    "        \n",
    "        m2 = self.upsample(m3) + self.lateral_c2(c2)\n",
    "        p2 = self.smooth_m2(m2)\n",
    "        \n",
    "        return p2, p3, p4, p5"
   ]
  },
  {
   "cell_type": "code",
   "execution_count": 7,
   "id": "a1a89006",
   "metadata": {},
   "outputs": [
    {
     "name": "stdout",
     "output_type": "stream",
     "text": [
      "torch.Size([1, 256, 56, 56])\n",
      "torch.Size([1, 256, 28, 28])\n",
      "torch.Size([1, 256, 14, 14])\n",
      "torch.Size([1, 256, 7, 7])\n"
     ]
    }
   ],
   "source": [
    "# Codeblock 6\n",
    "fpn = FPN()\n",
    "\n",
    "out_fpn = fpn(c2, c3, c4, c5)\n",
    "p2, p3, p4, p5 = out_fpn\n",
    "\n",
    "print(p2.shape)\n",
    "print(p3.shape)\n",
    "print(p4.shape)\n",
    "print(p5.shape)"
   ]
  },
  {
   "cell_type": "code",
   "execution_count": 8,
   "id": "cd33c868",
   "metadata": {},
   "outputs": [],
   "source": [
    "# Codeblock 7\n",
    "NUM_ANCHORS = 3\n",
    "\n",
    "class RPN(nn.Module):\n",
    "    def __init__(self):\n",
    "        super().__init__()\n",
    "        \n",
    "        self.intermediate = nn.Conv2d(in_channels=256, out_channels=256, kernel_size=3, padding=1)\n",
    "        \n",
    "        self.cls = nn.Conv2d(in_channels=256, out_channels=NUM_ANCHORS*2, kernel_size=1)\n",
    "        self.reg = nn.Conv2d(in_channels=256, out_channels=NUM_ANCHORS*4, kernel_size=1)\n",
    "    \n",
    "    def forward(self, x):\n",
    "        x = self.intermediate(x)\n",
    "        \n",
    "        objectness_scores = self.cls(x)\n",
    "        bbox_regressions  = self.reg(x)\n",
    "        \n",
    "        return objectness_scores, bbox_regressions"
   ]
  },
  {
   "cell_type": "code",
   "execution_count": 9,
   "id": "9c3929c5",
   "metadata": {},
   "outputs": [
    {
     "name": "stdout",
     "output_type": "stream",
     "text": [
      "torch.Size([1, 6, 56, 56])\n",
      "torch.Size([1, 12, 56, 56])\n"
     ]
    }
   ],
   "source": [
    "# Codeblock 8\n",
    "rpn = RPN()\n",
    "\n",
    "p2_objectness, p2_bbox = rpn(p2)\n",
    "\n",
    "print(p2_objectness.shape)\n",
    "print(p2_bbox.shape)"
   ]
  },
  {
   "cell_type": "code",
   "execution_count": 10,
   "id": "96d702a7",
   "metadata": {},
   "outputs": [],
   "source": [
    "# Codeblock 9\n",
    "class DetectionModel(nn.Module):\n",
    "    def __init__(self):\n",
    "        super().__init__()\n",
    "        \n",
    "        self.cnn = CNN()\n",
    "        self.fpn = FPN()\n",
    "        self.rpn = RPN()\n",
    "        \n",
    "    def forward(self, x):\n",
    "        \n",
    "        c2, c3, c4, c5 = self.cnn(x)                 #(1)\n",
    "        p2, p3, p4, p5 = self.fpn(c2, c3, c4, c5)    #(2)\n",
    "        \n",
    "        p2_pred = self.rpn(p2)        #(3)\n",
    "        p3_pred = self.rpn(p3)\n",
    "        p4_pred = self.rpn(p4)\n",
    "        p5_pred = self.rpn(p5)        #(4)\n",
    "        \n",
    "        return p2_pred, p3_pred, p4_pred, p5_pred"
   ]
  },
  {
   "cell_type": "code",
   "execution_count": 11,
   "id": "83b2ec36",
   "metadata": {},
   "outputs": [
    {
     "name": "stdout",
     "output_type": "stream",
     "text": [
      "torch.Size([1, 6, 56, 56])\n",
      "torch.Size([1, 6, 28, 28])\n",
      "torch.Size([1, 6, 14, 14])\n",
      "torch.Size([1, 6, 7, 7])\n",
      "\n",
      "torch.Size([1, 12, 56, 56])\n",
      "torch.Size([1, 12, 28, 28])\n",
      "torch.Size([1, 12, 14, 14])\n",
      "torch.Size([1, 12, 7, 7])\n"
     ]
    }
   ],
   "source": [
    "# Codeblock 10\n",
    "detection_model = DetectionModel()\n",
    "\n",
    "x = torch.randn(1, 3, 224, 224)     #(1)\n",
    "p2_pred, p3_pred, p4_pred, p5_pred = detection_model(x)  #(2)\n",
    "\n",
    "p2_objectness, p2_bbox = p2_pred    #(3)\n",
    "p3_objectness, p3_bbox = p3_pred\n",
    "p4_objectness, p4_bbox = p4_pred\n",
    "p5_objectness, p5_bbox = p5_pred    #(4)\n",
    "        \n",
    "print(p2_objectness.shape)\n",
    "print(p3_objectness.shape)\n",
    "print(p4_objectness.shape)\n",
    "print(p5_objectness.shape)\n",
    "print()\n",
    "\n",
    "print(p2_bbox.shape)\n",
    "print(p3_bbox.shape)\n",
    "print(p4_bbox.shape)\n",
    "print(p5_bbox.shape)"
   ]
  },
  {
   "cell_type": "code",
   "execution_count": null,
   "id": "51fe966b",
   "metadata": {},
   "outputs": [],
   "source": []
  }
 ],
 "metadata": {
  "kernelspec": {
   "display_name": "Python 3 (ipykernel)",
   "language": "python",
   "name": "python3"
  },
  "language_info": {
   "codemirror_mode": {
    "name": "ipython",
    "version": 3
   },
   "file_extension": ".py",
   "mimetype": "text/x-python",
   "name": "python",
   "nbconvert_exporter": "python",
   "pygments_lexer": "ipython3",
   "version": "3.11.4"
  }
 },
 "nbformat": 4,
 "nbformat_minor": 5
}

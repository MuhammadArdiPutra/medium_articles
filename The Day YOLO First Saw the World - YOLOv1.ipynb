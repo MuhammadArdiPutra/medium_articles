{
 "cells": [
  {
   "cell_type": "code",
   "execution_count": 1,
   "id": "0544921f",
   "metadata": {},
   "outputs": [],
   "source": [
    "# Codeblock 1\n",
    "import torch\n",
    "import torch.nn as nn\n",
    "\n",
    "S = 7\n",
    "B = 2\n",
    "C = 20"
   ]
  },
  {
   "cell_type": "code",
   "execution_count": 4,
   "id": "d68ebb1b",
   "metadata": {},
   "outputs": [],
   "source": [
    "# Codeblock 2\n",
    "class ConvBlock(nn.Module):\n",
    "    def __init__(self, \n",
    "                 in_channels, \n",
    "                 out_channels, \n",
    "                 kernel_size, \n",
    "                 stride, \n",
    "                 padding, \n",
    "                 maxpool_flag=False):\n",
    "        super().__init__()\n",
    "        self.maxpool_flag = maxpool_flag\n",
    "        \n",
    "        self.conv = nn.Conv2d(in_channels=in_channels,       #(1)\n",
    "                              out_channels=out_channels, \n",
    "                              kernel_size=kernel_size, \n",
    "                              stride=stride, \n",
    "                              padding=padding)\n",
    "        self.leaky_relu = nn.LeakyReLU(negative_slope=0.1)   #(2)\n",
    "        \n",
    "        if self.maxpool_flag:\n",
    "            self.maxpool = nn.MaxPool2d(kernel_size=2,       #(3)\n",
    "                                        stride=2)\n",
    "            \n",
    "    def forward(self, x):\n",
    "        #print(f'original\\t: {x.size()}')\n",
    "\n",
    "        x = self.conv(x)\n",
    "        #print(f'after conv\\t: {x.size()}')\n",
    "        \n",
    "        x = self.leaky_relu(x)\n",
    "        #print(f'after leaky relu: {x.size()}')\n",
    "        \n",
    "        if self.maxpool_flag:\n",
    "            x = self.maxpool(x)\n",
    "            #print(f'after maxpool\\t: {x.size()}')\n",
    "        \n",
    "        return x"
   ]
  },
  {
   "cell_type": "code",
   "execution_count": 3,
   "id": "628afa0f",
   "metadata": {},
   "outputs": [
    {
     "name": "stdout",
     "output_type": "stream",
     "text": [
      "original\t: torch.Size([1, 3, 448, 448])\n",
      "after conv\t: torch.Size([1, 64, 224, 224])\n",
      "after leaky relu: torch.Size([1, 64, 224, 224])\n",
      "after maxpool\t: torch.Size([1, 64, 112, 112])\n"
     ]
    }
   ],
   "source": [
    "# Codeblock 3\n",
    "convblock = ConvBlock(in_channels=3,       #(1)\n",
    "                      out_channels=64,     #(2)\n",
    "                      kernel_size=7,       #(3)\n",
    "                      stride=2,            #(4)\n",
    "                      padding=3,           #(5)\n",
    "                      maxpool_flag=True)   #(6)\n",
    "x = torch.randn(1, 3, 448, 448)            #(7)\n",
    "out = convblock(x)"
   ]
  },
  {
   "cell_type": "code",
   "execution_count": 5,
   "id": "3ea83d05",
   "metadata": {},
   "outputs": [],
   "source": [
    "# Codeblock 4a\n",
    "class Backbone(nn.Module):\n",
    "    def __init__(self):\n",
    "        super().__init__()\n",
    "        # in_channels, out_channels, kernel_size, stride, padding\n",
    "        self.stage0 = ConvBlock(3, 64, 7, 2, 3, maxpool_flag=True)      #(1)\n",
    "        self.stage1 = ConvBlock(64, 192, 3, 1, 1, maxpool_flag=True)    #(2)\n",
    "        \n",
    "        self.stage2 = nn.ModuleList([\n",
    "            ConvBlock(192, 128, 1, 1, 0), \n",
    "            ConvBlock(128, 256, 3, 1, 1), \n",
    "            ConvBlock(256, 256, 1, 1, 0),\n",
    "            ConvBlock(256, 512, 3, 1, 1, maxpool_flag=True)      #(3)\n",
    "        ])\n",
    "        \n",
    "        \n",
    "        self.stage3 = nn.ModuleList([])\n",
    "        for _ in range(4):\n",
    "            self.stage3.append(ConvBlock(512, 256, 1, 1, 0))\n",
    "            self.stage3.append(ConvBlock(256, 512, 3, 1, 1))\n",
    "            \n",
    "        self.stage3.append(ConvBlock(512, 512, 1, 1, 0))\n",
    "        self.stage3.append(ConvBlock(512, 1024, 3, 1, 1, maxpool_flag=True))  #(4)\n",
    "        \n",
    "        \n",
    "        self.stage4 = nn.ModuleList([])\n",
    "        for _ in range(2):\n",
    "            self.stage4.append(ConvBlock(1024, 512, 1, 1, 0))\n",
    "            self.stage4.append(ConvBlock(512, 1024, 3, 1, 1))\n",
    "        \n",
    "        self.stage4.append(ConvBlock(1024, 1024, 3, 1, 1))\n",
    "        self.stage4.append(ConvBlock(1024, 1024, 3, 2, 1))    #(5)\n",
    "        \n",
    "        \n",
    "        self.stage5 = nn.ModuleList([])\n",
    "        self.stage5.append(ConvBlock(1024, 1024, 3, 1, 1))\n",
    "        self.stage5.append(ConvBlock(1024, 1024, 3, 1, 1))\n",
    "        \n",
    "# Codeblock 4b\n",
    "    def forward(self, x):\n",
    "        print(f'original\\t: {x.size()}\\n')\n",
    "        \n",
    "        x = self.stage0(x)\n",
    "        print(f'after stage0\\t: {x.size()}\\n')\n",
    "        \n",
    "        x = self.stage1(x)\n",
    "        print(f'after stage1\\t: {x.size()}\\n')\n",
    "        \n",
    "        for i in range(len(self.stage2)):\n",
    "            x = self.stage2[i](x)\n",
    "            print(f'after stage2 #{i}\\t: {x.size()}')\n",
    "        \n",
    "        print()\n",
    "        for i in range(len(self.stage3)):\n",
    "            x = self.stage3[i](x)\n",
    "            print(f'after stage3 #{i}\\t: {x.size()}')\n",
    "        \n",
    "        print()\n",
    "        for i in range(len(self.stage4)):\n",
    "            x = self.stage4[i](x)\n",
    "            print(f'after stage4 #{i}\\t: {x.size()}')\n",
    "        \n",
    "        print()\n",
    "        for i in range(len(self.stage5)):\n",
    "            x = self.stage5[i](x)\n",
    "            print(f'after stage5 #{i}\\t: {x.size()}')\n",
    "            \n",
    "        return x"
   ]
  },
  {
   "cell_type": "code",
   "execution_count": 6,
   "id": "12b691c5",
   "metadata": {},
   "outputs": [
    {
     "name": "stdout",
     "output_type": "stream",
     "text": [
      "original\t: torch.Size([1, 3, 448, 448])\n",
      "\n",
      "after stage0\t: torch.Size([1, 64, 112, 112])\n",
      "\n",
      "after stage1\t: torch.Size([1, 192, 56, 56])\n",
      "\n",
      "after stage2 #0\t: torch.Size([1, 128, 56, 56])\n",
      "after stage2 #1\t: torch.Size([1, 256, 56, 56])\n",
      "after stage2 #2\t: torch.Size([1, 256, 56, 56])\n",
      "after stage2 #3\t: torch.Size([1, 512, 28, 28])\n",
      "\n",
      "after stage3 #0\t: torch.Size([1, 256, 28, 28])\n",
      "after stage3 #1\t: torch.Size([1, 512, 28, 28])\n",
      "after stage3 #2\t: torch.Size([1, 256, 28, 28])\n",
      "after stage3 #3\t: torch.Size([1, 512, 28, 28])\n",
      "after stage3 #4\t: torch.Size([1, 256, 28, 28])\n",
      "after stage3 #5\t: torch.Size([1, 512, 28, 28])\n",
      "after stage3 #6\t: torch.Size([1, 256, 28, 28])\n",
      "after stage3 #7\t: torch.Size([1, 512, 28, 28])\n",
      "after stage3 #8\t: torch.Size([1, 512, 28, 28])\n",
      "after stage3 #9\t: torch.Size([1, 1024, 14, 14])\n",
      "\n",
      "after stage4 #0\t: torch.Size([1, 512, 14, 14])\n",
      "after stage4 #1\t: torch.Size([1, 1024, 14, 14])\n",
      "after stage4 #2\t: torch.Size([1, 512, 14, 14])\n",
      "after stage4 #3\t: torch.Size([1, 1024, 14, 14])\n",
      "after stage4 #4\t: torch.Size([1, 1024, 14, 14])\n",
      "after stage4 #5\t: torch.Size([1, 1024, 7, 7])\n",
      "\n",
      "after stage5 #0\t: torch.Size([1, 1024, 7, 7])\n",
      "after stage5 #1\t: torch.Size([1, 1024, 7, 7])\n"
     ]
    }
   ],
   "source": [
    "# Codeblock 5\n",
    "backbone = Backbone()\n",
    "x = torch.randn(1, 3, 448, 448)\n",
    "out = backbone(x)"
   ]
  },
  {
   "cell_type": "code",
   "execution_count": 7,
   "id": "0355f3a1",
   "metadata": {},
   "outputs": [],
   "source": [
    "# Codeblock 6\n",
    "class FullyConnected(nn.Module):\n",
    "    def __init__(self):\n",
    "        super().__init__()\n",
    "        \n",
    "        self.linear0 = nn.Linear(in_features=1024*7*7, out_features=4096)   #(1)\n",
    "        self.leaky_relu = nn.LeakyReLU(negative_slope=0.1)                  #(2)\n",
    "        self.dropout = nn.Dropout(p=0.5)                                    #(3)\n",
    "        self.linear1 = nn.Linear(in_features=4096, out_features=(C+B*5)*S*S)#(4)\n",
    "    \n",
    "    def forward(self, x):\n",
    "        print(f'original\\t: {x.size()}')\n",
    "        \n",
    "        x = self.linear0(x)\n",
    "        print(f'after linear0\\t: {x.size()}')\n",
    "        \n",
    "        x = self.leaky_relu(x)\n",
    "        x = self.dropout(x)\n",
    "        \n",
    "        x = self.linear1(x)\n",
    "        print(f'after linear1\\t: {x.size()}')\n",
    "        \n",
    "        return x"
   ]
  },
  {
   "cell_type": "code",
   "execution_count": 8,
   "id": "f8aca980",
   "metadata": {},
   "outputs": [
    {
     "name": "stdout",
     "output_type": "stream",
     "text": [
      "original\t: torch.Size([1, 50176])\n",
      "after linear0\t: torch.Size([1, 4096])\n",
      "after linear1\t: torch.Size([1, 1470])\n"
     ]
    }
   ],
   "source": [
    "# Codeblock 7\n",
    "fc = FullyConnected()\n",
    "x = torch.randn(1, 1024*7*7)\n",
    "out = fc(x)"
   ]
  },
  {
   "cell_type": "code",
   "execution_count": 9,
   "id": "7b8b6021",
   "metadata": {},
   "outputs": [],
   "source": [
    "# Codeblock 8\n",
    "class YOLOv1(nn.Module):\n",
    "    def __init__(self):\n",
    "        super().__init__()\n",
    "        \n",
    "        self.backbone = Backbone()\n",
    "        self.fc = FullyConnected()\n",
    "        \n",
    "    def forward(self, x):\n",
    "        x = self.backbone(x)\n",
    "        x = x.flatten()\n",
    "        x = self.fc(x)\n",
    "        \n",
    "        return x"
   ]
  },
  {
   "cell_type": "code",
   "execution_count": 10,
   "id": "cba45676",
   "metadata": {},
   "outputs": [
    {
     "name": "stdout",
     "output_type": "stream",
     "text": [
      "original\t: torch.Size([1, 3, 448, 448])\n",
      "\n",
      "after stage0\t: torch.Size([1, 64, 112, 112])\n",
      "\n",
      "after stage1\t: torch.Size([1, 192, 56, 56])\n",
      "\n",
      "after stage2 #0\t: torch.Size([1, 128, 56, 56])\n",
      "after stage2 #1\t: torch.Size([1, 256, 56, 56])\n",
      "after stage2 #2\t: torch.Size([1, 256, 56, 56])\n",
      "after stage2 #3\t: torch.Size([1, 512, 28, 28])\n",
      "\n",
      "after stage3 #0\t: torch.Size([1, 256, 28, 28])\n",
      "after stage3 #1\t: torch.Size([1, 512, 28, 28])\n",
      "after stage3 #2\t: torch.Size([1, 256, 28, 28])\n",
      "after stage3 #3\t: torch.Size([1, 512, 28, 28])\n",
      "after stage3 #4\t: torch.Size([1, 256, 28, 28])\n",
      "after stage3 #5\t: torch.Size([1, 512, 28, 28])\n",
      "after stage3 #6\t: torch.Size([1, 256, 28, 28])\n",
      "after stage3 #7\t: torch.Size([1, 512, 28, 28])\n",
      "after stage3 #8\t: torch.Size([1, 512, 28, 28])\n",
      "after stage3 #9\t: torch.Size([1, 1024, 14, 14])\n",
      "\n",
      "after stage4 #0\t: torch.Size([1, 512, 14, 14])\n",
      "after stage4 #1\t: torch.Size([1, 1024, 14, 14])\n",
      "after stage4 #2\t: torch.Size([1, 512, 14, 14])\n",
      "after stage4 #3\t: torch.Size([1, 1024, 14, 14])\n",
      "after stage4 #4\t: torch.Size([1, 1024, 14, 14])\n",
      "after stage4 #5\t: torch.Size([1, 1024, 7, 7])\n",
      "\n",
      "after stage5 #0\t: torch.Size([1, 1024, 7, 7])\n",
      "after stage5 #1\t: torch.Size([1, 1024, 7, 7])\n",
      "original\t: torch.Size([50176])\n",
      "after linear0\t: torch.Size([4096])\n",
      "after linear1\t: torch.Size([1470])\n"
     ]
    },
    {
     "data": {
      "text/plain": [
       "torch.Size([1, 30, 7, 7])"
      ]
     },
     "execution_count": 10,
     "metadata": {},
     "output_type": "execute_result"
    }
   ],
   "source": [
    "# Codeblock 9\n",
    "yolov1 = YOLOv1()\n",
    "x = torch.randn(1, 3, 448, 448)      #(1)\n",
    "\n",
    "out = yolov1(x)                      #(2)\n",
    "out = out.reshape(-1, C+B*5, S, S)   #(3)\n",
    "out.shape"
   ]
  }
 ],
 "metadata": {
  "kernelspec": {
   "display_name": "Python 3 (ipykernel)",
   "language": "python",
   "name": "python3"
  },
  "language_info": {
   "codemirror_mode": {
    "name": "ipython",
    "version": 3
   },
   "file_extension": ".py",
   "mimetype": "text/x-python",
   "name": "python",
   "nbconvert_exporter": "python",
   "pygments_lexer": "ipython3",
   "version": "3.11.4"
  }
 },
 "nbformat": 4,
 "nbformat_minor": 5
}
